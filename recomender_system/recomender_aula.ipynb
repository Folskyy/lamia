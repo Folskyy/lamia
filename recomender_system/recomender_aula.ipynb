{
 "cells": [
  {
   "cell_type": "markdown",
   "metadata": {},
   "source": [
    "# Pré-processamento"
   ]
  },
  {
   "cell_type": "markdown",
   "metadata": {},
   "source": [
    "Importações"
   ]
  },
  {
   "cell_type": "code",
   "execution_count": 1,
   "metadata": {},
   "outputs": [],
   "source": [
    "import numpy as np\n",
    "import pandas as pd\n",
    "import ast"
   ]
  },
  {
   "cell_type": "markdown",
   "metadata": {},
   "source": [
    "Carregando dados"
   ]
  },
  {
   "cell_type": "code",
   "execution_count": 2,
   "metadata": {},
   "outputs": [],
   "source": [
    "credits_path, movies_path = 'files/credits.csv', 'files/movies.csv'\n",
    "df_credits = pd.read_csv(credits_path)\n",
    "df_movies = pd.read_csv(movies_path)"
   ]
  },
  {
   "cell_type": "markdown",
   "metadata": {},
   "source": [
    "Configurando o pandas para mostrar todas as linhas e colunas do DataFrame (útil para DF grandes)."
   ]
  },
  {
   "cell_type": "code",
   "execution_count": 3,
   "metadata": {},
   "outputs": [],
   "source": [
    "pd.set_option('display.max_columns', None)\n",
    "pd.set_option('display.max_rows', None)"
   ]
  },
  {
   "cell_type": "markdown",
   "metadata": {},
   "source": [
    "Colunas antes do merge"
   ]
  },
  {
   "cell_type": "code",
   "execution_count": 4,
   "metadata": {},
   "outputs": [
    {
     "name": "stdout",
     "output_type": "stream",
     "text": [
      "collumns num:  20 \n",
      "Collumns:  ['budget', 'genres', 'homepage', 'id', 'keywords', 'original_language',\n",
      "       'original_title', 'overview', 'popularity', 'production_companies',\n",
      "       'production_countries', 'release_date', 'revenue', 'runtime',\n",
      "       'spoken_languages', 'status', 'tagline', 'title', 'vote_average',\n",
      "       'vote_count'],\n",
      " \n"
     ]
    }
   ],
   "source": [
    "print(\"collumns num: \", len(df_movies.columns), \"\\nCollumns: \", str(df_movies.columns)[6:-20])"
   ]
  },
  {
   "cell_type": "markdown",
   "metadata": {},
   "source": [
    "Junção dos dois DataFrames utilizando o 'title' como chave"
   ]
  },
  {
   "cell_type": "code",
   "execution_count": 5,
   "metadata": {},
   "outputs": [],
   "source": [
    "df_movies = df_movies.merge(df_credits, on='title')"
   ]
  },
  {
   "cell_type": "markdown",
   "metadata": {},
   "source": [
    "Colunas após o merge"
   ]
  },
  {
   "cell_type": "code",
   "execution_count": 6,
   "metadata": {},
   "outputs": [
    {
     "name": "stdout",
     "output_type": "stream",
     "text": [
      "collumns num:  23 \n",
      "Collumns:  ['budget', 'genres', 'homepage', 'id', 'keywords', 'original_language',\n",
      "       'original_title', 'overview', 'popularity', 'production_companies',\n",
      "       'production_countries', 'release_date', 'revenue', 'runtime',\n",
      "       'spoken_languages', 'status', 'tagline', 'title', 'vote_average',\n",
      "       'vote_count', 'movie_id', 'cast', 'crew'],\n",
      " \n"
     ]
    }
   ],
   "source": [
    "print(\"collumns num: \", len(df_movies.columns), \"\\nCollumns: \", str(df_movies.columns)[6:-20])"
   ]
  },
  {
   "cell_type": "markdown",
   "metadata": {},
   "source": [
    "Selecionando somente as colunas necessárioas para o processamento"
   ]
  },
  {
   "cell_type": "code",
   "execution_count": 7,
   "metadata": {},
   "outputs": [],
   "source": [
    "columns = ['movie_id', 'title', 'overview', 'genres', 'keywords', 'cast', 'crew']\n",
    "df_movies = df_movies[columns]"
   ]
  },
  {
   "cell_type": "code",
   "execution_count": 8,
   "metadata": {},
   "outputs": [
    {
     "name": "stdout",
     "output_type": "stream",
     "text": [
      "collumns num:  7 \n",
      "Collumns:  ['movie_id', 'title', 'overview', 'genres', 'keywords', 'cast', 'cre\n"
     ]
    }
   ],
   "source": [
    "print(\"collumns num: \", len(df_movies.columns), \"\\nCollumns: \", str(df_movies.columns)[6:-20])"
   ]
  },
  {
   "cell_type": "markdown",
   "metadata": {},
   "source": [
    "Remoção linhas caso tenha valores nulos"
   ]
  },
  {
   "cell_type": "code",
   "execution_count": 9,
   "metadata": {},
   "outputs": [
    {
     "name": "stdout",
     "output_type": "stream",
     "text": [
      "All null values dropped\n"
     ]
    }
   ],
   "source": [
    "if any (df_movies.isnull().sum()):\n",
    "    df_movies.dropna(axis=0, how='any', inplace=True)\n",
    "    print('All null values dropped')\n",
    "\n",
    "else:\n",
    "    print('Have no Null Values')"
   ]
  },
  {
   "cell_type": "markdown",
   "metadata": {},
   "source": [
    "Remoção linhas caso tenha linhas repetidas"
   ]
  },
  {
   "cell_type": "code",
   "execution_count": 10,
   "metadata": {},
   "outputs": [
    {
     "name": "stdout",
     "output_type": "stream",
     "text": [
      "Have no duplicated values.\n"
     ]
    }
   ],
   "source": [
    "if df_movies.duplicated().sum():\n",
    "    df_movies.dropduplicates(inplace=True)\n",
    "    print('All null duplicated values dropped')\n",
    "else:\n",
    "    print('Have no duplicated values.')"
   ]
  },
  {
   "cell_type": "markdown",
   "metadata": {},
   "source": [
    "Funções para formatação dos dados"
   ]
  },
  {
   "cell_type": "code",
   "execution_count": 11,
   "metadata": {},
   "outputs": [],
   "source": [
    "def convert(obj):\n",
    "    \"\"\"\n",
    "    Retorna lista contendo os nomes em um dicionário\n",
    "    \"\"\"\n",
    "    return [i['name'] for i in ast.literal_eval(obj)]\n",
    "def convert3(obj):\n",
    "    \"\"\"\n",
    "    Retorna lista contendo os 3 primeiros nomes em um dicionário\n",
    "    \"\"\"\n",
    "    return [j['name'] for i, j in enumerate(ast.literal_eval(obj)[:3])]\n",
    "def fetch_director(obj):\n",
    "    \"\"\"\n",
    "    Retorna lista contendo somente o nome caso o cargo seja diretor\n",
    "    \"\"\"\n",
    "    return [i['name'] for i in ast.literal_eval(obj) if i['job'] == 'Director']"
   ]
  },
  {
   "cell_type": "markdown",
   "metadata": {},
   "source": [
    "Aplicação das funções para formatação dos dados"
   ]
  },
  {
   "cell_type": "code",
   "execution_count": 12,
   "metadata": {},
   "outputs": [],
   "source": [
    "# coluna recebe apenas o nome do gênero\n",
    "df_movies['genres'] = df_movies['genres'].apply(convert)\n",
    "# coluna recebe apenas a(s) palavras-chave\n",
    "df_movies['keywords'] = df_movies['keywords'].apply(convert)\n",
    "# coluna recebe apenas os 3 primeiros nomes do elenco\n",
    "df_movies['cast'] = df_movies['cast'].apply(convert3)\n",
    "# coluna recebe apenas os nomes dos diretores\n",
    "df_movies['crew'] = df_movies['crew'].apply(fetch_director)"
   ]
  },
  {
   "cell_type": "code",
   "execution_count": 13,
   "metadata": {},
   "outputs": [],
   "source": [
    "# separa as palavras da descrição do filme (facilita tarefas de NLP)\n",
    "df_movies['overview'] = df_movies['overview'].apply(lambda x: x.split())"
   ]
  },
  {
   "cell_type": "markdown",
   "metadata": {},
   "source": [
    "Retira espaços de nomes com mais de uma palavra em colunas específicas"
   ]
  },
  {
   "cell_type": "code",
   "execution_count": 14,
   "metadata": {},
   "outputs": [],
   "source": [
    "df_movies['genres'] = df_movies['genres'].apply(lambda x: [i.replace(\" \", \"\") for i in x])\n",
    "df_movies['crew'] = df_movies['crew'].apply(lambda x: [i.replace(\" \", \"\") for i in x])\n",
    "df_movies['cast'] = df_movies['cast'].apply(lambda x: [i.replace(\" \", \"\") for i in x])\n",
    "df_movies['keywords'] = df_movies['keywords'].apply(lambda x: [i.replace(\" \", \"\") for i in x])"
   ]
  },
  {
   "cell_type": "markdown",
   "metadata": {},
   "source": [
    "Cria uma coluna contendo as informações das outras colunas"
   ]
  },
  {
   "cell_type": "code",
   "execution_count": 15,
   "metadata": {},
   "outputs": [],
   "source": [
    "df_movies['tags'] = df_movies['overview'] + df_movies['genres'] + df_movies['keywords'] + df_movies['cast'] + df_movies['crew']"
   ]
  },
  {
   "cell_type": "markdown",
   "metadata": {},
   "source": [
    "Criação do DataFrame final utilizando somente as colunas necessárias para o sistema"
   ]
  },
  {
   "cell_type": "code",
   "execution_count": 16,
   "metadata": {},
   "outputs": [],
   "source": [
    "cols = ['movie_id', 'title', 'tags']\n",
    "new_df = df_movies[cols]"
   ]
  },
  {
   "cell_type": "markdown",
   "metadata": {},
   "source": [
    "Formatação do conteúdo da coluna tags"
   ]
  },
  {
   "cell_type": "code",
   "execution_count": 17,
   "metadata": {},
   "outputs": [
    {
     "name": "stderr",
     "output_type": "stream",
     "text": [
      "/tmp/ipykernel_213763/2503150204.py:2: SettingWithCopyWarning: \n",
      "A value is trying to be set on a copy of a slice from a DataFrame.\n",
      "Try using .loc[row_indexer,col_indexer] = value instead\n",
      "\n",
      "See the caveats in the documentation: https://pandas.pydata.org/pandas-docs/stable/user_guide/indexing.html#returning-a-view-versus-a-copy\n",
      "  new_df['tags'] = new_df['tags'].apply(lambda x : ' '.join(x))\n",
      "/tmp/ipykernel_213763/2503150204.py:4: SettingWithCopyWarning: \n",
      "A value is trying to be set on a copy of a slice from a DataFrame.\n",
      "Try using .loc[row_indexer,col_indexer] = value instead\n",
      "\n",
      "See the caveats in the documentation: https://pandas.pydata.org/pandas-docs/stable/user_guide/indexing.html#returning-a-view-versus-a-copy\n",
      "  new_df['tags'] = new_df['tags'].apply(lambda x : x.lower())\n"
     ]
    }
   ],
   "source": [
    "# retira os colchetes\n",
    "new_df['tags'] = new_df['tags'].apply(lambda x : ' '.join(x))\n",
    "# converte todas as letras para minúsculas\n",
    "new_df['tags'] = new_df['tags'].apply(lambda x : x.lower())"
   ]
  },
  {
   "cell_type": "markdown",
   "metadata": {},
   "source": [
    "# NLP"
   ]
  },
  {
   "cell_type": "markdown",
   "metadata": {},
   "source": [
    "Importações"
   ]
  },
  {
   "cell_type": "code",
   "execution_count": 18,
   "metadata": {},
   "outputs": [],
   "source": [
    "# tokenização e construção de dicionário\n",
    "from sklearn.feature_extraction.text import CountVectorizer\n",
    "import nltk\n",
    "# Stemmin (basicamente remove os sufixos das palavras)\n",
    "from nltk.stem.porter import PorterStemmer\n",
    "from sklearn.metrics.pairwise import cosine_similarity"
   ]
  },
  {
   "cell_type": "markdown",
   "metadata": {},
   "source": [
    "Instância da classe de vetorização de texto CountVectorizer"
   ]
  },
  {
   "cell_type": "code",
   "execution_count": 19,
   "metadata": {},
   "outputs": [],
   "source": [
    "cv = CountVectorizer(max_features=5000, stop_words='english')"
   ]
  },
  {
   "cell_type": "markdown",
   "metadata": {},
   "source": [
    "Cria o vocabulário e a matriz de contagem de palavras a partir da coluna 'tags'"
   ]
  },
  {
   "cell_type": "code",
   "execution_count": 20,
   "metadata": {},
   "outputs": [],
   "source": [
    "vectors = cv.fit_transform(new_df['tags']).toarray()"
   ]
  },
  {
   "cell_type": "markdown",
   "metadata": {},
   "source": [
    "Função para aplicar o stemmin em um texto"
   ]
  },
  {
   "cell_type": "code",
   "execution_count": 21,
   "metadata": {},
   "outputs": [],
   "source": [
    "ps = PorterStemmer()\n",
    "\n",
    "def stem(text):\n",
    "    return \" \".join([ps.stem(i) for i in text.split()])"
   ]
  },
  {
   "cell_type": "code",
   "execution_count": 22,
   "metadata": {},
   "outputs": [
    {
     "name": "stderr",
     "output_type": "stream",
     "text": [
      "/tmp/ipykernel_213763/1150880088.py:2: SettingWithCopyWarning: \n",
      "A value is trying to be set on a copy of a slice from a DataFrame.\n",
      "Try using .loc[row_indexer,col_indexer] = value instead\n",
      "\n",
      "See the caveats in the documentation: https://pandas.pydata.org/pandas-docs/stable/user_guide/indexing.html#returning-a-view-versus-a-copy\n",
      "  new_df['tags'] = new_df['tags'].apply(stem)\n"
     ]
    }
   ],
   "source": [
    "# stemmin em todas as palavras existentes na coluna 'tags'\n",
    "new_df['tags'] = new_df['tags'].apply(stem)"
   ]
  },
  {
   "cell_type": "code",
   "execution_count": 23,
   "metadata": {},
   "outputs": [],
   "source": [
    "# Cria uma matriz contendo a similaridade para cada par de vetor existente\n",
    "similarity = cosine_similarity(vectors)"
   ]
  },
  {
   "cell_type": "markdown",
   "metadata": {},
   "source": [
    "# Recommender"
   ]
  },
  {
   "cell_type": "markdown",
   "metadata": {},
   "source": [
    "Função para encontrar, ordenar e apresentar os filmes recomendados com base na similaridade entre as tags"
   ]
  },
  {
   "cell_type": "code",
   "execution_count": 24,
   "metadata": {},
   "outputs": [],
   "source": [
    "def recommend(movie):\n",
    "    movie_index = new_df[new_df['title']==movie].index[0]\n",
    "    distances = similarity[movie_index]\n",
    "    movies_list = sorted(list(enumerate(distances)), reverse=True, key=lambda x:x[1])[1:6]\n",
    "\n",
    "    temp = f\"{'='*3} Top 5 recommendations for '{movie}' {'='*3}\"\n",
    "    print(temp)\n",
    "    for i, j in enumerate(movies_list):\n",
    "        print(f\"{i+1}. \", new_df.iloc[j[0]].title)\n",
    "    print(\"=\" * len(temp), \"\\n\")"
   ]
  },
  {
   "cell_type": "markdown",
   "metadata": {},
   "source": [
    "## Test"
   ]
  },
  {
   "cell_type": "markdown",
   "metadata": {},
   "source": [
    "testa o sistema com os 5 primeiros filmes do DataFrame"
   ]
  },
  {
   "cell_type": "code",
   "execution_count": 25,
   "metadata": {},
   "outputs": [],
   "source": [
    "movies = new_df['title'][:5]"
   ]
  },
  {
   "cell_type": "code",
   "execution_count": 26,
   "metadata": {},
   "outputs": [
    {
     "name": "stdout",
     "output_type": "stream",
     "text": [
      "=== Top 5 recommendations for 'Avatar' ===\n",
      "1.  Titan A.E.\n",
      "2.  Independence Day\n",
      "3.  Small Soldiers\n",
      "4.  Aliens vs Predator: Requiem\n",
      "5.  Krull\n",
      "========================================== \n",
      "\n",
      "=== Top 5 recommendations for 'Pirates of the Caribbean: At World's End' ===\n",
      "1.  Pirates of the Caribbean: Dead Man's Chest\n",
      "2.  Pirates of the Caribbean: The Curse of the Black Pearl\n",
      "3.  Pirates of the Caribbean: On Stranger Tides\n",
      "4.  20,000 Leagues Under the Sea\n",
      "5.  Puss in Boots\n",
      "============================================================================ \n",
      "\n",
      "=== Top 5 recommendations for 'Spectre' ===\n",
      "1.  Quantum of Solace\n",
      "2.  Never Say Never Again\n",
      "3.  Skyfall\n",
      "4.  From Russia with Love\n",
      "5.  Thunderball\n",
      "=========================================== \n",
      "\n",
      "=== Top 5 recommendations for 'The Dark Knight Rises' ===\n",
      "1.  The Dark Knight\n",
      "2.  Batman Begins\n",
      "3.  Batman\n",
      "4.  Batman Returns\n",
      "5.  Batman\n",
      "========================================================= \n",
      "\n",
      "=== Top 5 recommendations for 'John Carter' ===\n",
      "1.  Star Trek: Insurrection\n",
      "2.  Mission to Mars\n",
      "3.  Captain America: The First Avenger\n",
      "4.  Escape from Planet Earth\n",
      "5.  Ghosts of Mars\n",
      "=============================================== \n",
      "\n"
     ]
    },
    {
     "data": {
      "text/plain": [
       "[None, None, None, None, None]"
      ]
     },
     "execution_count": 26,
     "metadata": {},
     "output_type": "execute_result"
    }
   ],
   "source": [
    "[recommend(movie) for movie in movies]"
   ]
  }
 ],
 "metadata": {
  "kernelspec": {
   "display_name": "lamia",
   "language": "python",
   "name": "python3"
  },
  "language_info": {
   "codemirror_mode": {
    "name": "ipython",
    "version": 3
   },
   "file_extension": ".py",
   "mimetype": "text/x-python",
   "name": "python",
   "nbconvert_exporter": "python",
   "pygments_lexer": "ipython3",
   "version": "3.11.5"
  }
 },
 "nbformat": 4,
 "nbformat_minor": 2
}
