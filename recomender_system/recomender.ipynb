{
 "cells": [
  {
   "cell_type": "markdown",
   "metadata": {},
   "source": [
    "# Importações"
   ]
  },
  {
   "cell_type": "code",
   "execution_count": 1,
   "metadata": {},
   "outputs": [
    {
     "name": "stderr",
     "output_type": "stream",
     "text": [
      "2024-09-08 23:27:14.225129: I tensorflow/core/platform/cpu_feature_guard.cc:182] This TensorFlow binary is optimized to use available CPU instructions in performance-critical operations.\n",
      "To enable the following instructions: SSE4.1 SSE4.2 AVX AVX2 FMA, in other operations, rebuild TensorFlow with the appropriate compiler flags.\n"
     ]
    }
   ],
   "source": [
    "import pandas as pd\n",
    "import tensorflow as tf\n",
    "import spacy"
   ]
  },
  {
   "cell_type": "markdown",
   "metadata": {},
   "source": [
    "# Processamento"
   ]
  },
  {
   "cell_type": "code",
   "execution_count": 2,
   "metadata": {},
   "outputs": [],
   "source": [
    "PATH='files/movie_dataset.csv'\n",
    "col=['index', 'genres', 'id', 'title', 'overview']\n",
    "\n",
    "data=pd.read_csv(PATH, sep=',')\n",
    "df=pd.DataFrame(data, columns=col)"
   ]
  },
  {
   "cell_type": "code",
   "execution_count": 3,
   "metadata": {},
   "outputs": [],
   "source": [
    "nlp = spacy.load('en_core_web_md')"
   ]
  },
  {
   "cell_type": "markdown",
   "metadata": {},
   "source": [
    "# Sistema"
   ]
  },
  {
   "cell_type": "code",
   "execution_count": 16,
   "metadata": {},
   "outputs": [],
   "source": [
    "def similarity_val(overview1, overview2):\n",
    "    # calcula a similaridade entre dois overviews\n",
    "    doc1 = nlp(str(overview1))\n",
    "    doc2 = nlp(str(overview2))\n",
    "    return doc1.similarity(doc2)\n",
    "\n",
    "def add_similarity(id):\n",
    "    # calcula a similaridade de um overview em relação a todos os outros\n",
    "    movie1 = df[df['id'] == id]\n",
    "    if movie1.empty:\n",
    "        return []\n",
    "\n",
    "    movie1_overview = movie1['overview'].values[0]\n",
    "    similarity = []\n",
    "\n",
    "    for _, movie2 in df.iterrows():\n",
    "        if movie2['id'] == id:\n",
    "            continue\n",
    "        movie2_overview = movie2['overview']\n",
    "        sim = similarity_val(movie1_overview, movie2_overview)\n",
    "        similarity.append([sim, movie2['id'], movie2['title']])\n",
    "\n",
    "    similarity = sorted(similarity, key=lambda x: x[0], reverse=True)        \n",
    "    return similarity"
   ]
  },
  {
   "cell_type": "code",
   "execution_count": 17,
   "metadata": {},
   "outputs": [
    {
     "name": "stderr",
     "output_type": "stream",
     "text": [
      "/tmp/ipykernel_42894/3341077191.py:4: UserWarning: [W008] Evaluating Doc.similarity based on empty vectors.\n",
      "  return doc1.similarity(doc2)\n"
     ]
    }
   ],
   "source": [
    "id = 285\n",
    "res = add_similarity(id)"
   ]
  },
  {
   "cell_type": "code",
   "execution_count": 23,
   "metadata": {},
   "outputs": [
    {
     "name": "stdout",
     "output_type": "stream",
     "text": [
      "Top 3 recommended movies: \n",
      "0.9547919601257827  ===  Yogi Bear\n",
      "0.9546211281577096  ===  Broken Vessels\n",
      "0.954475615255318  ===  Hot Fuzz\n"
     ]
    }
   ],
   "source": [
    "print('Top 3 recommended movies: ')\n",
    "\n",
    "for i, j in enumerate(res):\n",
    "    print(j[0], ' === ', j[2])\n",
    "    if i == 2:\n",
    "        break"
   ]
  }
 ],
 "metadata": {
  "kernelspec": {
   "display_name": "lamia",
   "language": "python",
   "name": "python3"
  },
  "language_info": {
   "codemirror_mode": {
    "name": "ipython",
    "version": 3
   },
   "file_extension": ".py",
   "mimetype": "text/x-python",
   "name": "python",
   "nbconvert_exporter": "python",
   "pygments_lexer": "ipython3",
   "version": "3.11.5"
  }
 },
 "nbformat": 4,
 "nbformat_minor": 2
}
