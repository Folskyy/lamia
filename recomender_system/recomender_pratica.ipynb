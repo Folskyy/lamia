{
 "cells": [
  {
   "cell_type": "markdown",
   "metadata": {},
   "source": [
    "# Importações"
   ]
  },
  {
   "cell_type": "code",
   "execution_count": 40,
   "metadata": {},
   "outputs": [],
   "source": [
    "import pandas as pd\n",
    "import tensorflow as tf\n",
    "import spacy"
   ]
  },
  {
   "cell_type": "markdown",
   "metadata": {},
   "source": [
    "# Processamento"
   ]
  },
  {
   "cell_type": "code",
   "execution_count": 41,
   "metadata": {},
   "outputs": [],
   "source": [
    "PATH='files/movie_dataset.csv'\n",
    "col=['index', 'genres', 'id', 'title', 'overview']\n",
    "\n",
    "df=pd.read_csv(PATH, sep=',')\n",
    "data=pd.DataFrame(df, columns=col)"
   ]
  },
  {
   "cell_type": "code",
   "execution_count": 42,
   "metadata": {},
   "outputs": [],
   "source": [
    "nlp = spacy.load('en_core_web_md', disable=['parser', 'ner'])"
   ]
  },
  {
   "cell_type": "markdown",
   "metadata": {},
   "source": [
    "# Sistema"
   ]
  },
  {
   "cell_type": "code",
   "execution_count": 43,
   "metadata": {},
   "outputs": [],
   "source": [
    "def similarity_val(overview1, overview2):\n",
    "    # calcula a similaridade entre dois overviews\n",
    "    doc1 = nlp(str(overview1))\n",
    "    doc2 = nlp(str(overview2))\n",
    "    return doc1.similarity(doc2)\n",
    "\n",
    "def add_similarity(id, df):\n",
    "    # calcula a similaridade de um overview em relação a todos os outros\n",
    "    movie1 = df[df['id'] == id]\n",
    "    if movie1.empty:\n",
    "        return []\n",
    "    \n",
    "    movie1_overview = movie1['overview'].values[0]\n",
    "    similarities = pd.DataFrame(columns=['similarity'])\n",
    "\n",
    "    for _, movie2 in df.iterrows():\n",
    "        movie2_overview = movie2['overview']\n",
    "        sim = similarity_val(movie1_overview, movie2_overview)\n",
    "        similarities.loc[len(similarities)] = [sim]\n",
    "        # similarities.index += 1\n",
    "        # similarities = df.sort_index()\n",
    "    return similarities"
   ]
  },
  {
   "cell_type": "code",
   "execution_count": 44,
   "metadata": {},
   "outputs": [
    {
     "name": "stderr",
     "output_type": "stream",
     "text": [
      "/tmp/ipykernel_100721/294361785.py:5: UserWarning: [W008] Evaluating Doc.similarity based on empty vectors.\n",
      "  return doc1.similarity(doc2)\n"
     ]
    },
    {
     "data": {
      "text/html": [
       "<div>\n",
       "<style scoped>\n",
       "    .dataframe tbody tr th:only-of-type {\n",
       "        vertical-align: middle;\n",
       "    }\n",
       "\n",
       "    .dataframe tbody tr th {\n",
       "        vertical-align: top;\n",
       "    }\n",
       "\n",
       "    .dataframe thead th {\n",
       "        text-align: right;\n",
       "    }\n",
       "</style>\n",
       "<table border=\"1\" class=\"dataframe\">\n",
       "  <thead>\n",
       "    <tr style=\"text-align: right;\">\n",
       "      <th></th>\n",
       "      <th>index</th>\n",
       "      <th>genres</th>\n",
       "      <th>id</th>\n",
       "      <th>title</th>\n",
       "      <th>overview</th>\n",
       "      <th>similarity</th>\n",
       "    </tr>\n",
       "  </thead>\n",
       "  <tbody>\n",
       "    <tr>\n",
       "      <th>458</th>\n",
       "      <td>458</td>\n",
       "      <td>Comedy Family Animation Adventure</td>\n",
       "      <td>41515</td>\n",
       "      <td>Yogi Bear</td>\n",
       "      <td>Jellystone Park has been losing business, so g...</td>\n",
       "      <td>0.954792</td>\n",
       "    </tr>\n",
       "    <tr>\n",
       "      <th>4501</th>\n",
       "      <td>4501</td>\n",
       "      <td>Drama</td>\n",
       "      <td>125263</td>\n",
       "      <td>Broken Vessels</td>\n",
       "      <td>A young Pennsylvania man moves to Los Angeles ...</td>\n",
       "      <td>0.954621</td>\n",
       "    </tr>\n",
       "    <tr>\n",
       "      <th>2471</th>\n",
       "      <td>2471</td>\n",
       "      <td>Crime Action Comedy</td>\n",
       "      <td>4638</td>\n",
       "      <td>Hot Fuzz</td>\n",
       "      <td>Top London cop, PC Nicholas Angel is good. Too...</td>\n",
       "      <td>0.954476</td>\n",
       "    </tr>\n",
       "    <tr>\n",
       "      <th>2783</th>\n",
       "      <td>2783</td>\n",
       "      <td>Crime Thriller</td>\n",
       "      <td>158011</td>\n",
       "      <td>The Call</td>\n",
       "      <td>Jordan Turner is an experienced 911 operator b...</td>\n",
       "      <td>0.953961</td>\n",
       "    </tr>\n",
       "    <tr>\n",
       "      <th>4522</th>\n",
       "      <td>4522</td>\n",
       "      <td>Comedy Drama Family Romance</td>\n",
       "      <td>16653</td>\n",
       "      <td>The Singles Ward</td>\n",
       "      <td>When Jonathan Jordan gets divorced he's thrust...</td>\n",
       "      <td>0.953371</td>\n",
       "    </tr>\n",
       "    <tr>\n",
       "      <th>3657</th>\n",
       "      <td>3657</td>\n",
       "      <td>Thriller</td>\n",
       "      <td>77495</td>\n",
       "      <td>Sleep Tight</td>\n",
       "      <td>Apartment concierge Cesar is a miserable perso...</td>\n",
       "      <td>0.952624</td>\n",
       "    </tr>\n",
       "    <tr>\n",
       "      <th>2076</th>\n",
       "      <td>2076</td>\n",
       "      <td>Horror Thriller Science Fiction</td>\n",
       "      <td>7341</td>\n",
       "      <td>The Rage: Carrie 2</td>\n",
       "      <td>After the suicide of her only friend, Rachel h...</td>\n",
       "      <td>0.951308</td>\n",
       "    </tr>\n",
       "    <tr>\n",
       "      <th>3583</th>\n",
       "      <td>3583</td>\n",
       "      <td>Comedy Drama</td>\n",
       "      <td>59968</td>\n",
       "      <td>Our Idiot Brother</td>\n",
       "      <td>Everybody has the sibling who is always just a...</td>\n",
       "      <td>0.950878</td>\n",
       "    </tr>\n",
       "    <tr>\n",
       "      <th>4185</th>\n",
       "      <td>4185</td>\n",
       "      <td>Horror Thriller</td>\n",
       "      <td>9783</td>\n",
       "      <td>Sublime</td>\n",
       "      <td>Admitted to Mt. Abaddon Hospital for a routine...</td>\n",
       "      <td>0.950410</td>\n",
       "    </tr>\n",
       "  </tbody>\n",
       "</table>\n",
       "</div>"
      ],
      "text/plain": [
       "      index                             genres      id               title  \\\n",
       "458     458  Comedy Family Animation Adventure   41515           Yogi Bear   \n",
       "4501   4501                              Drama  125263      Broken Vessels   \n",
       "2471   2471                Crime Action Comedy    4638            Hot Fuzz   \n",
       "2783   2783                     Crime Thriller  158011            The Call   \n",
       "4522   4522        Comedy Drama Family Romance   16653    The Singles Ward   \n",
       "3657   3657                           Thriller   77495         Sleep Tight   \n",
       "2076   2076    Horror Thriller Science Fiction    7341  The Rage: Carrie 2   \n",
       "3583   3583                       Comedy Drama   59968   Our Idiot Brother   \n",
       "4185   4185                    Horror Thriller    9783             Sublime   \n",
       "\n",
       "                                               overview  similarity  \n",
       "458   Jellystone Park has been losing business, so g...    0.954792  \n",
       "4501  A young Pennsylvania man moves to Los Angeles ...    0.954621  \n",
       "2471  Top London cop, PC Nicholas Angel is good. Too...    0.954476  \n",
       "2783  Jordan Turner is an experienced 911 operator b...    0.953961  \n",
       "4522  When Jonathan Jordan gets divorced he's thrust...    0.953371  \n",
       "3657  Apartment concierge Cesar is a miserable perso...    0.952624  \n",
       "2076  After the suicide of her only friend, Rachel h...    0.951308  \n",
       "3583  Everybody has the sibling who is always just a...    0.950878  \n",
       "4185  Admitted to Mt. Abaddon Hospital for a routine...    0.950410  "
      ]
     },
     "execution_count": 44,
     "metadata": {},
     "output_type": "execute_result"
    }
   ],
   "source": [
    "id = 285\n",
    "data['similarity'] = add_similarity(id, data)\n",
    "\n",
    "data = data.sort_values(by='similarity', ascending=False)\n",
    "data[1:10]"
   ]
  }
 ],
 "metadata": {
  "kernelspec": {
   "display_name": "lamia",
   "language": "python",
   "name": "python3"
  },
  "language_info": {
   "codemirror_mode": {
    "name": "ipython",
    "version": 3
   },
   "file_extension": ".py",
   "mimetype": "text/x-python",
   "name": "python",
   "nbconvert_exporter": "python",
   "pygments_lexer": "ipython3",
   "version": "3.11.5"
  }
 },
 "nbformat": 4,
 "nbformat_minor": 2
}
