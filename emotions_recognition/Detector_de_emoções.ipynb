{
  "cells": [
    {
      "cell_type": "markdown",
      "metadata": {
        "id": "view-in-github",
        "colab_type": "text"
      },
      "source": [
        "<a href=\"https://colab.research.google.com/github/Folskyy/lamia/blob/main/emotions_recognition/Detector_de_emo%C3%A7%C3%B5es.ipynb\" target=\"_parent\"><img src=\"https://colab.research.google.com/assets/colab-badge.svg\" alt=\"Open In Colab\"/></a>"
      ]
    },
    {
      "cell_type": "markdown",
      "metadata": {
        "id": "rAZCotW2B1M-"
      },
      "source": [
        "# Importação de bibliotecas"
      ]
    },
    {
      "cell_type": "code",
      "execution_count": 23,
      "metadata": {
        "id": "tyM-y6744O6d"
      },
      "outputs": [],
      "source": [
        "import cv2\n",
        "import numpy as np\n",
        "import pandas as pd\n",
        "import matplotlib.pyplot as plt\n",
        "import zipfile\n",
        "import tensorflow\n",
        "from google.colab.patches import cv2_imshow\n",
        "from google.colab import drive"
      ]
    },
    {
      "cell_type": "markdown",
      "metadata": {
        "id": "rZnP8cTLo7gj"
      },
      "source": [
        "# Acessando arquivos do drive"
      ]
    },
    {
      "cell_type": "markdown",
      "metadata": {
        "id": "5V3dClDKryib"
      },
      "source": [
        "Montagem do Drive"
      ]
    },
    {
      "cell_type": "code",
      "execution_count": 24,
      "metadata": {
        "colab": {
          "base_uri": "https://localhost:8080/"
        },
        "id": "lrpPyMg1pAeh",
        "outputId": "827d561f-9b34-48b1-f838-0fed451bf7a9"
      },
      "outputs": [
        {
          "output_type": "stream",
          "name": "stdout",
          "text": [
            "Drive already mounted at /content/gdrive; to attempt to forcibly remount, call drive.mount(\"/content/gdrive\", force_remount=True).\n"
          ]
        }
      ],
      "source": [
        "drive.mount(\"/content/gdrive\")"
      ]
    },
    {
      "cell_type": "markdown",
      "metadata": {
        "id": "hzsGcrUhsdZz"
      },
      "source": [
        " Extração do zip contido no Drive para o diretório atual da máquina"
      ]
    },
    {
      "cell_type": "code",
      "execution_count": 25,
      "metadata": {
        "id": "GYwgar7HsZP5"
      },
      "outputs": [],
      "source": [
        "path = '/content/gdrive/MyDrive/Colab Notebooks/emotions_rocognition/Material.zip'\n",
        "zip_object = zipfile.ZipFile(file=path, mode='r')\n",
        "zip_object.extractall('./')"
      ]
    },
    {
      "cell_type": "markdown",
      "metadata": {
        "id": "w1FGxpeHsFpi"
      },
      "source": [
        "Extração da base de dados contida dentro do arquivo extraído anteriormente"
      ]
    },
    {
      "cell_type": "code",
      "execution_count": 26,
      "metadata": {
        "colab": {
          "base_uri": "https://localhost:8080/",
          "height": 139
        },
        "id": "6TXrqllnq6Ys",
        "outputId": "97c5daf2-f9e0-4022-e3c6-34c6ba566499"
      },
      "outputs": [
        {
          "output_type": "execute_result",
          "data": {
            "text/plain": [
              "<bound method ZipFile.close of <zipfile.ZipFile filename='/content/Material/fer2013.zip' mode='r'>>"
            ],
            "text/html": [
              "<div style=\"max-width:800px; border: 1px solid var(--colab-border-color);\"><style>\n",
              "      pre.function-repr-contents {\n",
              "        overflow-x: auto;\n",
              "        padding: 8px 12px;\n",
              "        max-height: 500px;\n",
              "      }\n",
              "\n",
              "      pre.function-repr-contents.function-repr-contents-collapsed {\n",
              "        cursor: pointer;\n",
              "        max-height: 100px;\n",
              "      }\n",
              "    </style>\n",
              "    <pre style=\"white-space: initial; background:\n",
              "         var(--colab-secondary-surface-color); padding: 8px 12px;\n",
              "         border-bottom: 1px solid var(--colab-border-color);\"><b>zipfile.ZipFile.close</b><br/>def close()</pre><pre class=\"function-repr-contents function-repr-contents-collapsed\" style=\"\"><a class=\"filepath\" style=\"display:none\" href=\"#\">/usr/lib/python3.10/zipfile.py</a>Close the file, and for mode &#x27;w&#x27;, &#x27;x&#x27; and &#x27;a&#x27; write the ending\n",
              "records.</pre>\n",
              "      <script>\n",
              "      if (google.colab.kernel.accessAllowed && google.colab.files && google.colab.files.view) {\n",
              "        for (const element of document.querySelectorAll('.filepath')) {\n",
              "          element.style.display = 'block'\n",
              "          element.onclick = (event) => {\n",
              "            event.preventDefault();\n",
              "            event.stopPropagation();\n",
              "            google.colab.files.view(element.textContent, 1823);\n",
              "          };\n",
              "        }\n",
              "      }\n",
              "      for (const element of document.querySelectorAll('.function-repr-contents')) {\n",
              "        element.onclick = (event) => {\n",
              "          event.preventDefault();\n",
              "          event.stopPropagation();\n",
              "          element.classList.toggle('function-repr-contents-collapsed');\n",
              "        };\n",
              "      }\n",
              "      </script>\n",
              "      </div>"
            ]
          },
          "metadata": {},
          "execution_count": 26
        }
      ],
      "source": [
        "base_imgs = '/content/Material/fer2013.zip'\n",
        "zip_object = zipfile.ZipFile(file=base_imgs, mode='r')\n",
        "zip_object.extractall('./')\n",
        "zip_object.close"
      ]
    },
    {
      "cell_type": "markdown",
      "metadata": {
        "id": "ZwneH6xFrr7u"
      },
      "source": [
        "# Acessando a base de imagens de expressões faciais FER2013"
      ]
    },
    {
      "cell_type": "markdown",
      "metadata": {
        "id": "rYFVurcsxg4i"
      },
      "source": [
        "35.887 imagens, 48x48px cada imagem, rotuladas com 7 emoções.  \n",
        "O arquivo fer2013.csv tem as colunas emotion, pixels (sequência de pixels de uma imagem em tons de cinza) e Usage (separa os dados em treino/teste)"
      ]
    },
    {
      "cell_type": "code",
      "execution_count": 27,
      "metadata": {
        "colab": {
          "base_uri": "https://localhost:8080/"
        },
        "id": "QDlvVXxrzJZF",
        "outputId": "62015d3e-f6b3-4416-bdf1-d3138ce4f842"
      },
      "outputs": [
        {
          "output_type": "stream",
          "name": "stdout",
          "text": [
            "<bound method NDFrame.head of        emotion                                             pixels        Usage\n",
            "0            0  70 80 82 72 58 58 60 63 54 58 60 48 89 115 121...     Training\n",
            "1            0  151 150 147 155 148 133 111 140 170 174 182 15...     Training\n",
            "2            2  231 212 156 164 174 138 161 173 182 200 106 38...     Training\n",
            "3            4  24 32 36 30 32 23 19 20 30 41 21 22 32 34 21 1...     Training\n",
            "4            6  4 0 0 0 0 0 0 0 0 0 0 0 3 15 23 28 48 50 58 84...     Training\n",
            "...        ...                                                ...          ...\n",
            "35882        6  50 36 17 22 23 29 33 39 34 37 37 37 39 43 48 5...  PrivateTest\n",
            "35883        3  178 174 172 173 181 188 191 194 196 199 200 20...  PrivateTest\n",
            "35884        0  17 17 16 23 28 22 19 17 25 26 20 24 31 19 27 9...  PrivateTest\n",
            "35885        3  30 28 28 29 31 30 42 68 79 81 77 67 67 71 63 6...  PrivateTest\n",
            "35886        2  19 13 14 12 13 16 21 33 50 57 71 84 97 108 122...  PrivateTest\n",
            "\n",
            "[35887 rows x 3 columns]>\n"
          ]
        }
      ],
      "source": [
        "data = pd.read_csv('/content/fer2013/fer2013.csv')\n",
        "print(data.head)"
      ]
    },
    {
      "cell_type": "markdown",
      "metadata": {
        "id": "QHAvcKiO-SYB"
      },
      "source": [
        "Gráfico com a contagem de ocorrências de cada emoção"
      ]
    },
    {
      "cell_type": "code",
      "execution_count": 28,
      "metadata": {
        "colab": {
          "base_uri": "https://localhost:8080/",
          "height": 0
        },
        "id": "CqjFbwOe7HZ3",
        "outputId": "64368d6a-9ab1-4ce8-84bc-462ddd2a8af5"
      },
      "outputs": [
        {
          "output_type": "display_data",
          "data": {
            "text/plain": [
              "<Figure size 1600x800 with 1 Axes>"
            ],
            "image/png": "[encoded data removed]"
          },
          "metadata": {}
        }
      ],
      "source": [
        "categorical_emotions = ['Angry', 'Disgust', 'Fear', 'Happy', 'Sad', 'Surprise', 'Neutral']\n",
        "\n",
        "emotions_count = data.groupby('emotion')['pixels'].count()\n",
        "\n",
        "plt.figure(figsize=(16, 8))\n",
        "plt.bar(categorical_emotions, emotions_count)\n",
        "plt.show()"
      ]
    },
    {
      "cell_type": "markdown",
      "metadata": {
        "id": "qYmcNpfj-0CM"
      },
      "source": [
        "# Pré-processamento"
      ]
    },
    {
      "cell_type": "markdown",
      "metadata": {
        "id": "nuMJWIvfJXhj"
      },
      "source": [
        "Leitura e redimensionamento das sequencias de pixels para montar a imagem"
      ]
    },
    {
      "cell_type": "code",
      "execution_count": 29,
      "metadata": {
        "colab": {
          "base_uri": "https://localhost:8080/"
        },
        "collapsed": true,
        "id": "-W7azDnA_Cu-",
        "outputId": "b33f027c-e14b-4817-c39a-2191f826cf48"
      },
      "outputs": [
        {
          "output_type": "execute_result",
          "data": {
            "text/plain": [
              "(35887, 48, 48)"
            ]
          },
          "metadata": {},
          "execution_count": 29
        }
      ],
      "source": [
        "pixels = data['pixels'].tolist() # recebe uma lista de strings com os pixels\n",
        "h, w = 48, 48 # dimensões da imagem\n",
        "images = []\n",
        "\n",
        "for pixel_sequence  in pixels: # itera em cada string de pixels\n",
        "  # separa todos os valores na string e converte para inteiros\n",
        "  image = [int(pixel) for pixel in pixel_sequence.split(' ')]\n",
        "  # converte a lista de pixels(int) em uma np.array redimensionada\n",
        "  image = np.array(image).reshape(h, w)\n",
        "  images.append(image)\n",
        "\n",
        "# lista para np.array\n",
        "images = np.array(images)\n",
        "images.shape"
      ]
    },
    {
      "cell_type": "code",
      "execution_count": 30,
      "metadata": {
        "colab": {
          "base_uri": "https://localhost:8080/",
          "height": 361
        },
        "id": "tBy5unAqIMKG",
        "outputId": "34b5d07e-3fef-43fd-8b4f-2bce56dfacf6"
      },
      "outputs": [
        {
          "output_type": "stream",
          "name": "stdout",
          "text": [
            "0\n"
          ]
        },
        {
          "output_type": "display_data",
          "data": {
            "text/plain": [
              "<PIL.Image.Image image mode=L size=48x48>"
            ],
            "image/png": "[encoded data removed]"
          },
          "metadata": {}
        },
        {
          "output_type": "stream",
          "name": "stdout",
          "text": [
            "1\n"
          ]
        },
        {
          "output_type": "display_data",
          "data": {
            "text/plain": [
              "<PIL.Image.Image image mode=L size=48x48>"
            ],
            "image/png": "[encoded data removed]"
          },
          "metadata": {}
        },
        {
          "output_type": "stream",
          "name": "stdout",
          "text": [
            "2\n"
          ]
        },
        {
          "output_type": "display_data",
          "data": {
            "text/plain": [
              "<PIL.Image.Image image mode=L size=48x48>"
            ],
            "image/png": "[encoded data removed]"
          },
          "metadata": {}
        },
        {
          "output_type": "stream",
          "name": "stdout",
          "text": [
            "3\n"
          ]
        },
        {
          "output_type": "display_data",
          "data": {
            "text/plain": [
              "<PIL.Image.Image image mode=L size=48x48>"
            ],
            "image/png": "[encoded data removed]"
          },
          "metadata": {}
        },
        {
          "output_type": "stream",
          "name": "stdout",
          "text": [
            "4\n"
          ]
        },
        {
          "output_type": "display_data",
          "data": {
            "text/plain": [
              "<PIL.Image.Image image mode=L size=48x48>"
            ],
            "image/png": "[encoded data removed]"
          },
          "metadata": {}
        },
        {
          "output_type": "execute_result",
          "data": {
            "text/plain": [
              "[(None, None), (None, None), (None, None), (None, None), (None, None)]"
            ]
          },
          "metadata": {},
          "execution_count": 30
        }
      ],
      "source": [
        "[(print(i), cv2_imshow(images[i])) for i in range(5)]"
      ]
    },
    {
      "cell_type": "markdown",
      "metadata": {
        "id": "GAdrnP48SH7k"
      },
      "source": [
        "Normalização dos valores dos pixels"
      ]
    },
    {
      "cell_type": "code",
      "execution_count": 31,
      "metadata": {
        "collapsed": true,
        "id": "igQT19ucICIi"
      },
      "outputs": [],
      "source": [
        "images = images.astype('float32')\n",
        "images = images / 255"
      ]
    },
    {
      "cell_type": "markdown",
      "metadata": {
        "id": "byjlKmx9SxsI"
      },
      "source": [
        "Conversão de variáveis categóricas em colunas numéricas."
      ]
    },
    {
      "cell_type": "code",
      "execution_count": 32,
      "metadata": {
        "id": "aCkb6eDU_iSn"
      },
      "outputs": [],
      "source": [
        "emotions = pd.get_dummies(data['emotion']).values\n",
        "# emotions = pd.get_dummies(categorical_emotions).values"
      ]
    },
    {
      "cell_type": "markdown",
      "metadata": {
        "id": "9WG-zv1GY5Uo"
      },
      "source": [
        "# Importação do TensorFlow/Keras"
      ]
    },
    {
      "cell_type": "markdown",
      "metadata": {
        "id": "O7GUO0h-4HwK"
      },
      "source": [
        "importação das estruturas necessárias para arquitetar a CNN"
      ]
    },
    {
      "cell_type": "code",
      "execution_count": 33,
      "metadata": {
        "id": "dDHxccrHXiyg"
      },
      "outputs": [],
      "source": [
        "from sklearn.model_selection import train_test_split # precisa?\n",
        "from tensorflow.keras.models import Sequential\n",
        "from tensorflow.keras.layers import Dense, Dropout, Activation, Flatten\n",
        "from tensorflow.keras.layers import Conv2D, MaxPooling2D, BatchNormalization\n",
        "from tensorflow.keras.losses import categorical_crossentropy\n",
        "from tensorflow.keras.optimizers import Adam\n",
        "# ajuda a evitar o overfitting\n",
        "from tensorflow.keras.regularizers import l2\n",
        "# Redução dinâmica do LR quando uma métrica monitorada para de molhorar\n",
        "from tensorflow.keras.callbacks import ReduceLROnPlateau\n",
        "# Interrompe o treinamento quando uma métrica para de melhorar\n",
        "from tensorflow.keras.callbacks import EarlyStopping\n",
        "# Salva o modelo em um determinado ponto do treinamento como checkpoint\n",
        "from tensorflow.keras.callbacks import ModelCheckpoint\n",
        "# salvar e carregar modelo\n",
        "from tensorflow.keras.models import load_model, model_from_json"
      ]
    },
    {
      "cell_type": "markdown",
      "metadata": {
        "id": "oPIhfzRbwlYG"
      },
      "source": [
        "# Divisão dos dados (treinamento x teste)"
      ]
    },
    {
      "cell_type": "markdown",
      "metadata": {
        "id": "CxOmM_xr3guT"
      },
      "source": [
        "Divisão dos dados: (imagem_para_treino, imagem_para_teste, rotulo_do_treino, rotulo_do_teste)"
      ]
    },
    {
      "cell_type": "code",
      "execution_count": 49,
      "metadata": {
        "id": "1s9jovNvwwTp"
      },
      "outputs": [],
      "source": [
        "# o random state permite obter essa mesma distribuição caso divida novamente\n",
        "x_train_val, x_test, y_train_val, y_test = train_test_split(images, emotions,test_size=0.1,\n",
        "                                                            random_state=42)\n",
        "x_train, x_val, y_train, y_val = train_test_split(x_train_val, y_train_val,test_size=0.2,\n",
        "                                                  random_state=42)"
      ]
    },
    {
      "cell_type": "code",
      "source": [
        "print(f\"Número de imagens para treinamento: {len(x_train)}\")\n",
        "print(f\"Número de imagens para Validação:   {len(x_val)}\")\n",
        "print(f\"Número de imagens para testes:      {len(x_test)}\")"
      ],
      "metadata": {
        "colab": {
          "base_uri": "https://localhost:8080/"
        },
        "id": "8krXHXa4k5th",
        "outputId": "8cb83168-e33a-41a1-f76d-91c9c64686bb"
      },
      "execution_count": 50,
      "outputs": [
        {
          "output_type": "stream",
          "name": "stdout",
          "text": [
            "Número de imagens para treinamento: 25838\n",
            "Número de imagens para Validação:   6460\n",
            "Número de imagens para testes:      3589\n"
          ]
        }
      ]
    },
    {
      "cell_type": "markdown",
      "source": [
        "Salvamento dos dados de teste em formato de arquivo para facilitar a construção da matriz de confusão."
      ],
      "metadata": {
        "id": "BMLUzuqkks4v"
      }
    },
    {
      "cell_type": "code",
      "source": [
        "np.save('mod_xtest', x_test)\n",
        "np.save('mod_ytest', y_test)"
      ],
      "metadata": {
        "id": "pGW1opf8ksKD"
      },
      "execution_count": 53,
      "outputs": []
    },
    {
      "cell_type": "markdown",
      "metadata": {
        "id": "QFeLRiC127n8"
      },
      "source": [
        "# Arquitetura do modelo"
      ]
    },
    {
      "cell_type": "markdown",
      "metadata": {
        "id": "XcWFQnb04Whr"
      },
      "source": [
        "definição de valores para os principais parâmetros exigidos"
      ]
    },
    {
      "cell_type": "code",
      "execution_count": 35,
      "metadata": {
        "id": "sYV5R3ru1y-M"
      },
      "outputs": [],
      "source": [
        "num_features = 64\n",
        "num_labels = 7\n",
        "batch_size = 64\n",
        "epochs = 100"
      ]
    },
    {
      "cell_type": "markdown",
      "metadata": {
        "id": "QUrDdOOQ7E0e"
      },
      "source": [
        "Arquitetura sequencial do modelo"
      ]
    },
    {
      "cell_type": "code",
      "execution_count": 36,
      "metadata": {
        "colab": {
          "base_uri": "https://localhost:8080/"
        },
        "id": "9uiVfMBv4oIh",
        "outputId": "57b25dd2-d08a-44b4-dd67-40a8ab7ae307"
      },
      "outputs": [
        {
          "output_type": "stream",
          "name": "stdout",
          "text": [
            "Model: \"sequential_1\"\n",
            "_________________________________________________________________\n",
            " Layer (type)                Output Shape              Param #   \n",
            "=================================================================\n",
            " conv2d_8 (Conv2D)           (None, 46, 46, 64)        640       \n",
            "                                                                 \n",
            " conv2d_9 (Conv2D)           (None, 46, 46, 64)        36928     \n",
            "                                                                 \n",
            " batch_normalization_7 (Bat  (None, 46, 46, 64)        256       \n",
            " chNormalization)                                                \n",
            "                                                                 \n",
            " max_pooling2d_4 (MaxPoolin  (None, 23, 23, 64)        0         \n",
            " g2D)                                                            \n",
            "                                                                 \n",
            " dropout_7 (Dropout)         (None, 23, 23, 64)        0         \n",
            "                                                                 \n",
            " conv2d_10 (Conv2D)          (None, 23, 23, 128)       73856     \n",
            "                                                                 \n",
            " batch_normalization_8 (Bat  (None, 23, 23, 128)       512       \n",
            " chNormalization)                                                \n",
            "                                                                 \n",
            " conv2d_11 (Conv2D)          (None, 23, 23, 128)       147584    \n",
            "                                                                 \n",
            " batch_normalization_9 (Bat  (None, 23, 23, 128)       512       \n",
            " chNormalization)                                                \n",
            "                                                                 \n",
            " max_pooling2d_5 (MaxPoolin  (None, 11, 11, 128)       0         \n",
            " g2D)                                                            \n",
            "                                                                 \n",
            " dropout_8 (Dropout)         (None, 11, 11, 128)       0         \n",
            "                                                                 \n",
            " conv2d_12 (Conv2D)          (None, 11, 11, 256)       295168    \n",
            "                                                                 \n",
            " batch_normalization_10 (Ba  (None, 11, 11, 256)       1024      \n",
            " tchNormalization)                                               \n",
            "                                                                 \n",
            " conv2d_13 (Conv2D)          (None, 11, 11, 256)       590080    \n",
            "                                                                 \n",
            " batch_normalization_11 (Ba  (None, 11, 11, 256)       1024      \n",
            " tchNormalization)                                               \n",
            "                                                                 \n",
            " max_pooling2d_6 (MaxPoolin  (None, 5, 5, 256)         0         \n",
            " g2D)                                                            \n",
            "                                                                 \n",
            " dropout_9 (Dropout)         (None, 5, 5, 256)         0         \n",
            "                                                                 \n",
            " conv2d_14 (Conv2D)          (None, 5, 5, 512)         1180160   \n",
            "                                                                 \n",
            " batch_normalization_12 (Ba  (None, 5, 5, 512)         2048      \n",
            " tchNormalization)                                               \n",
            "                                                                 \n",
            " conv2d_15 (Conv2D)          (None, 5, 5, 512)         2359808   \n",
            "                                                                 \n",
            " batch_normalization_13 (Ba  (None, 5, 5, 512)         2048      \n",
            " tchNormalization)                                               \n",
            "                                                                 \n",
            " max_pooling2d_7 (MaxPoolin  (None, 2, 2, 512)         0         \n",
            " g2D)                                                            \n",
            "                                                                 \n",
            " dropout_10 (Dropout)        (None, 2, 2, 512)         0         \n",
            "                                                                 \n",
            " flatten_1 (Flatten)         (None, 2048)              0         \n",
            "                                                                 \n",
            " dense_4 (Dense)             (None, 512)               1049088   \n",
            "                                                                 \n",
            " dropout_11 (Dropout)        (None, 512)               0         \n",
            "                                                                 \n",
            " dense_5 (Dense)             (None, 256)               131328    \n",
            "                                                                 \n",
            " dropout_12 (Dropout)        (None, 256)               0         \n",
            "                                                                 \n",
            " dense_6 (Dense)             (None, 128)               32896     \n",
            "                                                                 \n",
            " dropout_13 (Dropout)        (None, 128)               0         \n",
            "                                                                 \n",
            " dense_7 (Dense)             (None, 7)                 903       \n",
            "                                                                 \n",
            "=================================================================\n",
            "Total params: 5905863 (22.53 MB)\n",
            "Trainable params: 5902151 (22.51 MB)\n",
            "Non-trainable params: 3712 (14.50 KB)\n",
            "_________________________________________________________________\n"
          ]
        }
      ],
      "source": [
        "model = Sequential()\n",
        "\n",
        "# CAMADA DE ENTRADA\n",
        "# data_format: ordem das dimensões do input. 'channels_last' é o padrão\n",
        "model.add(Conv2D(num_features, kernel_size=(3,3), activation='relu',\n",
        "                 input_shape=(w, h, 1), data_format='channels_last',\n",
        "                 kernel_regularizer=l2(0.01)))\n",
        "# CONV-POOL 1\n",
        "model.add(Conv2D(num_features, kernel_size=(3,3), activation='relu',\n",
        "                 padding='same'))\n",
        "model.add(BatchNormalization())\n",
        "model.add(MaxPooling2D(pool_size=(2,2), strides=(2,2)))\n",
        "model.add(Dropout(0.2))\n",
        "\n",
        "# CONV-POOL 2\n",
        "model.add(Conv2D(2*num_features, kernel_size=(3,3), activation='relu',\n",
        "                 padding='same'))\n",
        "model.add(BatchNormalization())\n",
        "model.add(Conv2D(2*num_features, kernel_size=(3,3), activation='relu',\n",
        "                 padding='same'))\n",
        "model.add(BatchNormalization())\n",
        "model.add(MaxPooling2D(pool_size=(2, 2), strides=(2,2)))\n",
        "model.add(Dropout(0.2))\n",
        "\n",
        "\n",
        "# CONV-POOL 3\n",
        "model.add(Conv2D(2*2*num_features, kernel_size=(3,3), activation='relu',\n",
        "                 padding='same'))\n",
        "model.add(BatchNormalization())\n",
        "model.add(Conv2D(2*2*num_features, kernel_size=(3,3), activation='relu',\n",
        "                 padding='same'))\n",
        "model.add(BatchNormalization())\n",
        "model.add(MaxPooling2D(pool_size=(2, 2), strides=(2,2)))\n",
        "model.add(Dropout(0.2))\n",
        "\n",
        "# CONV-POOL 4\n",
        "model.add(Conv2D(2*2*2*num_features, kernel_size=(3,3), activation='relu',\n",
        "                 padding='same'))\n",
        "model.add(BatchNormalization())\n",
        "model.add(Conv2D(2*2*2*num_features, kernel_size=(3,3), activation='relu',\n",
        "                 padding='same'))\n",
        "model.add(BatchNormalization())\n",
        "model.add(MaxPooling2D(pool_size=(2, 2), strides=(2,2)))\n",
        "model.add(Dropout(0.2))\n",
        "\n",
        "# PLANIFICAÇÃO\n",
        "model.add(Flatten())\n",
        "\n",
        "# CAMADA DENSA 1\n",
        "model.add(Dense(2*2*2*num_features, activation='relu'))\n",
        "model.add(Dropout(0.2))\n",
        "\n",
        "# CAMADA DENSA 2\n",
        "model.add(Dense(2*2*num_features, activation='relu'))\n",
        "model.add(Dropout(0.2))\n",
        "\n",
        "# CAMADA DENSA 3\n",
        "model.add(Dense(2*num_features, activation='relu'))\n",
        "model.add(Dropout(0.2))\n",
        "\n",
        "# CAMADA DE SAÍDA\n",
        "# softmax para classificação multiclasse\n",
        "model.add(Dense(num_labels, activation='softmax'))\n",
        "\n",
        "model.summary()"
      ]
    },
    {
      "cell_type": "markdown",
      "metadata": {
        "id": "4R3wwRl7_Aqd"
      },
      "source": [
        "# Compilando o modelo"
      ]
    },
    {
      "cell_type": "markdown",
      "metadata": {
        "id": "8y8ju5FqKtY-"
      },
      "source": [
        "Configura o modelo"
      ]
    },
    {
      "cell_type": "code",
      "execution_count": 37,
      "metadata": {
        "id": "Bi9mXfuD93RI"
      },
      "outputs": [],
      "source": [
        "model.compile(loss='categorical_crossentropy',\n",
        "              optimizer=Adam(learning_rate=0.001,beta_1=0.9, beta_2=0.99, epsilon=1e-7),\n",
        "              metrics=['accuracy'])"
      ]
    },
    {
      "cell_type": "markdown",
      "metadata": {
        "id": "LyfYZyYqCUVH"
      },
      "source": [
        "Variáveis para salvar os pesos e a estrutura do modelo no drive"
      ]
    },
    {
      "cell_type": "code",
      "execution_count": 38,
      "metadata": {
        "id": "eJsXrZMsB-6U"
      },
      "outputs": [],
      "source": [
        "model_file_weight = '/content/gdrive/MyDrive/Colab Notebooks/emotions_rocognition/model_file_weight.h5'\n",
        "model_file_struct = '/content/gdrive/MyDrive/Colab Notebooks/emotions_rocognition/model_file_struct.json'"
      ]
    },
    {
      "cell_type": "markdown",
      "metadata": {
        "id": "4hkUj-ISCgB8"
      },
      "source": [
        "Callbacks"
      ]
    },
    {
      "cell_type": "code",
      "execution_count": 39,
      "metadata": {
        "id": "V0zhjFt5CRnz"
      },
      "outputs": [],
      "source": [
        "# verbose: ativa as notificações\n",
        "# patience: número tolerável de batches sem aumentar a precisão\n",
        "# monitor: métrica a ser monitorada\n",
        "checkpointer = ModelCheckpoint(model_file_weight, monitor='val_loss', verbose=1,\n",
        "                               save_best_only=True)\n",
        "# factor: novo_LR = atual_LR * factor (reduz em 10%)\n",
        "lr_reducer = ReduceLROnPlateau(monitor='val_loss', factor=0.9, patience=3,\n",
        "                               verbose=1)\n",
        "# min_delta: Valor mínimo de variação na métrica para ser considerada uma melhoria.\n",
        "# mode: Indica se o treinamento deve parar quando a métrica aumentar ou diminuir.\n",
        "early_stopper = EarlyStopping(monitor='val_loss', min_delta=0, patience=8,\n",
        "                              verbose=1, mode='auto')"
      ]
    },
    {
      "cell_type": "markdown",
      "metadata": {
        "id": "dOW9xf8aDC3O"
      },
      "source": [
        "Salvar o modelo como um arquivo JSON"
      ]
    },
    {
      "cell_type": "code",
      "execution_count": 40,
      "metadata": {
        "id": "C9wJygRQDKvy"
      },
      "outputs": [],
      "source": [
        "model_json = model.to_json()\n",
        "with open(model_file_struct, 'w') as f:\n",
        "  f.write(model_json)"
      ]
    },
    {
      "cell_type": "markdown",
      "metadata": {
        "id": "2Ntof0wsEbTW"
      },
      "source": [
        "# Treinamento"
      ]
    },
    {
      "cell_type": "code",
      "execution_count": 41,
      "metadata": {
        "colab": {
          "base_uri": "https://localhost:8080/",
          "height": 391
        },
        "id": "xI6irljtEeVY",
        "outputId": "391ccf55-aaad-46da-b18f-3cf2523ca62b",
        "collapsed": true
      },
      "outputs": [
        {
          "output_type": "stream",
          "name": "stdout",
          "text": [
            "Epoch 1/100\n",
            " 16/404 [>.............................] - ETA: 27:16 - loss: 2.4900 - accuracy: 0.1875"
          ]
        },
        {
          "output_type": "error",
          "ename": "KeyboardInterrupt",
          "evalue": "",
          "traceback": [
            "\u001b[0;31m---------------------------------------------------------------------------\u001b[0m",
            "\u001b[0;31mKeyboardInterrupt\u001b[0m                         Traceback (most recent call last)",
            "\u001b[0;32m<ipython-input-41-478a88c5f1d3>\u001b[0m in \u001b[0;36m<cell line: 1>\u001b[0;34m()\u001b[0m\n\u001b[0;32m----> 1\u001b[0;31m history = model.fit(x_train, y_train,\n\u001b[0m\u001b[1;32m      2\u001b[0m                     \u001b[0mbatch_size\u001b[0m\u001b[0;34m=\u001b[0m\u001b[0mbatch_size\u001b[0m\u001b[0;34m,\u001b[0m\u001b[0;34m\u001b[0m\u001b[0;34m\u001b[0m\u001b[0m\n\u001b[1;32m      3\u001b[0m                     \u001b[0mepochs\u001b[0m\u001b[0;34m=\u001b[0m\u001b[0mepochs\u001b[0m\u001b[0;34m,\u001b[0m\u001b[0;34m\u001b[0m\u001b[0;34m\u001b[0m\u001b[0m\n\u001b[1;32m      4\u001b[0m                     \u001b[0mverbose\u001b[0m\u001b[0;34m=\u001b[0m\u001b[0;36m1\u001b[0m\u001b[0;34m,\u001b[0m\u001b[0;34m\u001b[0m\u001b[0;34m\u001b[0m\u001b[0m\n\u001b[1;32m      5\u001b[0m                     \u001b[0mvalidation_data\u001b[0m\u001b[0;34m=\u001b[0m\u001b[0;34m(\u001b[0m\u001b[0mx_val\u001b[0m\u001b[0;34m,\u001b[0m \u001b[0my_val\u001b[0m\u001b[0;34m)\u001b[0m\u001b[0;34m,\u001b[0m\u001b[0;34m\u001b[0m\u001b[0;34m\u001b[0m\u001b[0m\n",
            "\u001b[0;32m/usr/local/lib/python3.10/dist-packages/keras/src/utils/traceback_utils.py\u001b[0m in \u001b[0;36merror_handler\u001b[0;34m(*args, **kwargs)\u001b[0m\n\u001b[1;32m     63\u001b[0m         \u001b[0mfiltered_tb\u001b[0m \u001b[0;34m=\u001b[0m \u001b[0;32mNone\u001b[0m\u001b[0;34m\u001b[0m\u001b[0;34m\u001b[0m\u001b[0m\n\u001b[1;32m     64\u001b[0m         \u001b[0;32mtry\u001b[0m\u001b[0;34m:\u001b[0m\u001b[0;34m\u001b[0m\u001b[0;34m\u001b[0m\u001b[0m\n\u001b[0;32m---> 65\u001b[0;31m             \u001b[0;32mreturn\u001b[0m \u001b[0mfn\u001b[0m\u001b[0;34m(\u001b[0m\u001b[0;34m*\u001b[0m\u001b[0margs\u001b[0m\u001b[0;34m,\u001b[0m \u001b[0;34m**\u001b[0m\u001b[0mkwargs\u001b[0m\u001b[0;34m)\u001b[0m\u001b[0;34m\u001b[0m\u001b[0;34m\u001b[0m\u001b[0m\n\u001b[0m\u001b[1;32m     66\u001b[0m         \u001b[0;32mexcept\u001b[0m \u001b[0mException\u001b[0m \u001b[0;32mas\u001b[0m \u001b[0me\u001b[0m\u001b[0;34m:\u001b[0m\u001b[0;34m\u001b[0m\u001b[0;34m\u001b[0m\u001b[0m\n\u001b[1;32m     67\u001b[0m             \u001b[0mfiltered_tb\u001b[0m \u001b[0;34m=\u001b[0m \u001b[0m_process_traceback_frames\u001b[0m\u001b[0;34m(\u001b[0m\u001b[0me\u001b[0m\u001b[0;34m.\u001b[0m\u001b[0m__traceback__\u001b[0m\u001b[0;34m)\u001b[0m\u001b[0;34m\u001b[0m\u001b[0;34m\u001b[0m\u001b[0m\n",
            "\u001b[0;32m/usr/local/lib/python3.10/dist-packages/keras/src/engine/training.py\u001b[0m in \u001b[0;36mfit\u001b[0;34m(self, x, y, batch_size, epochs, verbose, callbacks, validation_split, validation_data, shuffle, class_weight, sample_weight, initial_epoch, steps_per_epoch, validation_steps, validation_batch_size, validation_freq, max_queue_size, workers, use_multiprocessing)\u001b[0m\n\u001b[1;32m   1805\u001b[0m                         ):\n\u001b[1;32m   1806\u001b[0m                             \u001b[0mcallbacks\u001b[0m\u001b[0;34m.\u001b[0m\u001b[0mon_train_batch_begin\u001b[0m\u001b[0;34m(\u001b[0m\u001b[0mstep\u001b[0m\u001b[0;34m)\u001b[0m\u001b[0;34m\u001b[0m\u001b[0;34m\u001b[0m\u001b[0m\n\u001b[0;32m-> 1807\u001b[0;31m                             \u001b[0mtmp_logs\u001b[0m \u001b[0;34m=\u001b[0m \u001b[0mself\u001b[0m\u001b[0;34m.\u001b[0m\u001b[0mtrain_function\u001b[0m\u001b[0;34m(\u001b[0m\u001b[0miterator\u001b[0m\u001b[0;34m)\u001b[0m\u001b[0;34m\u001b[0m\u001b[0;34m\u001b[0m\u001b[0m\n\u001b[0m\u001b[1;32m   1808\u001b[0m                             \u001b[0;32mif\u001b[0m \u001b[0mdata_handler\u001b[0m\u001b[0;34m.\u001b[0m\u001b[0mshould_sync\u001b[0m\u001b[0;34m:\u001b[0m\u001b[0;34m\u001b[0m\u001b[0;34m\u001b[0m\u001b[0m\n\u001b[1;32m   1809\u001b[0m                                 \u001b[0mcontext\u001b[0m\u001b[0;34m.\u001b[0m\u001b[0masync_wait\u001b[0m\u001b[0;34m(\u001b[0m\u001b[0;34m)\u001b[0m\u001b[0;34m\u001b[0m\u001b[0;34m\u001b[0m\u001b[0m\n",
            "\u001b[0;32m/usr/local/lib/python3.10/dist-packages/tensorflow/python/util/traceback_utils.py\u001b[0m in \u001b[0;36merror_handler\u001b[0;34m(*args, **kwargs)\u001b[0m\n\u001b[1;32m    148\u001b[0m     \u001b[0mfiltered_tb\u001b[0m \u001b[0;34m=\u001b[0m \u001b[0;32mNone\u001b[0m\u001b[0;34m\u001b[0m\u001b[0;34m\u001b[0m\u001b[0m\n\u001b[1;32m    149\u001b[0m     \u001b[0;32mtry\u001b[0m\u001b[0;34m:\u001b[0m\u001b[0;34m\u001b[0m\u001b[0;34m\u001b[0m\u001b[0m\n\u001b[0;32m--> 150\u001b[0;31m       \u001b[0;32mreturn\u001b[0m \u001b[0mfn\u001b[0m\u001b[0;34m(\u001b[0m\u001b[0;34m*\u001b[0m\u001b[0margs\u001b[0m\u001b[0;34m,\u001b[0m \u001b[0;34m**\u001b[0m\u001b[0mkwargs\u001b[0m\u001b[0;34m)\u001b[0m\u001b[0;34m\u001b[0m\u001b[0;34m\u001b[0m\u001b[0m\n\u001b[0m\u001b[1;32m    151\u001b[0m     \u001b[0;32mexcept\u001b[0m \u001b[0mException\u001b[0m \u001b[0;32mas\u001b[0m \u001b[0me\u001b[0m\u001b[0;34m:\u001b[0m\u001b[0;34m\u001b[0m\u001b[0;34m\u001b[0m\u001b[0m\n\u001b[1;32m    152\u001b[0m       \u001b[0mfiltered_tb\u001b[0m \u001b[0;34m=\u001b[0m \u001b[0m_process_traceback_frames\u001b[0m\u001b[0;34m(\u001b[0m\u001b[0me\u001b[0m\u001b[0;34m.\u001b[0m\u001b[0m__traceback__\u001b[0m\u001b[0;34m)\u001b[0m\u001b[0;34m\u001b[0m\u001b[0;34m\u001b[0m\u001b[0m\n",
            "\u001b[0;32m/usr/local/lib/python3.10/dist-packages/tensorflow/python/eager/polymorphic_function/polymorphic_function.py\u001b[0m in \u001b[0;36m__call__\u001b[0;34m(self, *args, **kwds)\u001b[0m\n\u001b[1;32m    830\u001b[0m \u001b[0;34m\u001b[0m\u001b[0m\n\u001b[1;32m    831\u001b[0m       \u001b[0;32mwith\u001b[0m \u001b[0mOptionalXlaContext\u001b[0m\u001b[0;34m(\u001b[0m\u001b[0mself\u001b[0m\u001b[0;34m.\u001b[0m\u001b[0m_jit_compile\u001b[0m\u001b[0;34m)\u001b[0m\u001b[0;34m:\u001b[0m\u001b[0;34m\u001b[0m\u001b[0;34m\u001b[0m\u001b[0m\n\u001b[0;32m--> 832\u001b[0;31m         \u001b[0mresult\u001b[0m \u001b[0;34m=\u001b[0m \u001b[0mself\u001b[0m\u001b[0;34m.\u001b[0m\u001b[0m_call\u001b[0m\u001b[0;34m(\u001b[0m\u001b[0;34m*\u001b[0m\u001b[0margs\u001b[0m\u001b[0;34m,\u001b[0m \u001b[0;34m**\u001b[0m\u001b[0mkwds\u001b[0m\u001b[0;34m)\u001b[0m\u001b[0;34m\u001b[0m\u001b[0;34m\u001b[0m\u001b[0m\n\u001b[0m\u001b[1;32m    833\u001b[0m \u001b[0;34m\u001b[0m\u001b[0m\n\u001b[1;32m    834\u001b[0m       \u001b[0mnew_tracing_count\u001b[0m \u001b[0;34m=\u001b[0m \u001b[0mself\u001b[0m\u001b[0;34m.\u001b[0m\u001b[0mexperimental_get_tracing_count\u001b[0m\u001b[0;34m(\u001b[0m\u001b[0;34m)\u001b[0m\u001b[0;34m\u001b[0m\u001b[0;34m\u001b[0m\u001b[0m\n",
            "\u001b[0;32m/usr/local/lib/python3.10/dist-packages/tensorflow/python/eager/polymorphic_function/polymorphic_function.py\u001b[0m in \u001b[0;36m_call\u001b[0;34m(self, *args, **kwds)\u001b[0m\n\u001b[1;32m    866\u001b[0m       \u001b[0;31m# In this case we have created variables on the first call, so we run the\u001b[0m\u001b[0;34m\u001b[0m\u001b[0;34m\u001b[0m\u001b[0m\n\u001b[1;32m    867\u001b[0m       \u001b[0;31m# defunned version which is guaranteed to never create variables.\u001b[0m\u001b[0;34m\u001b[0m\u001b[0;34m\u001b[0m\u001b[0m\n\u001b[0;32m--> 868\u001b[0;31m       return tracing_compilation.call_function(\n\u001b[0m\u001b[1;32m    869\u001b[0m           \u001b[0margs\u001b[0m\u001b[0;34m,\u001b[0m \u001b[0mkwds\u001b[0m\u001b[0;34m,\u001b[0m \u001b[0mself\u001b[0m\u001b[0;34m.\u001b[0m\u001b[0m_no_variable_creation_config\u001b[0m\u001b[0;34m\u001b[0m\u001b[0;34m\u001b[0m\u001b[0m\n\u001b[1;32m    870\u001b[0m       )\n",
            "\u001b[0;32m/usr/local/lib/python3.10/dist-packages/tensorflow/python/eager/polymorphic_function/tracing_compilation.py\u001b[0m in \u001b[0;36mcall_function\u001b[0;34m(args, kwargs, tracing_options)\u001b[0m\n\u001b[1;32m    137\u001b[0m   \u001b[0mbound_args\u001b[0m \u001b[0;34m=\u001b[0m \u001b[0mfunction\u001b[0m\u001b[0;34m.\u001b[0m\u001b[0mfunction_type\u001b[0m\u001b[0;34m.\u001b[0m\u001b[0mbind\u001b[0m\u001b[0;34m(\u001b[0m\u001b[0;34m*\u001b[0m\u001b[0margs\u001b[0m\u001b[0;34m,\u001b[0m \u001b[0;34m**\u001b[0m\u001b[0mkwargs\u001b[0m\u001b[0;34m)\u001b[0m\u001b[0;34m\u001b[0m\u001b[0;34m\u001b[0m\u001b[0m\n\u001b[1;32m    138\u001b[0m   \u001b[0mflat_inputs\u001b[0m \u001b[0;34m=\u001b[0m \u001b[0mfunction\u001b[0m\u001b[0;34m.\u001b[0m\u001b[0mfunction_type\u001b[0m\u001b[0;34m.\u001b[0m\u001b[0munpack_inputs\u001b[0m\u001b[0;34m(\u001b[0m\u001b[0mbound_args\u001b[0m\u001b[0;34m)\u001b[0m\u001b[0;34m\u001b[0m\u001b[0;34m\u001b[0m\u001b[0m\n\u001b[0;32m--> 139\u001b[0;31m   return function._call_flat(  # pylint: disable=protected-access\n\u001b[0m\u001b[1;32m    140\u001b[0m       \u001b[0mflat_inputs\u001b[0m\u001b[0;34m,\u001b[0m \u001b[0mcaptured_inputs\u001b[0m\u001b[0;34m=\u001b[0m\u001b[0mfunction\u001b[0m\u001b[0;34m.\u001b[0m\u001b[0mcaptured_inputs\u001b[0m\u001b[0;34m\u001b[0m\u001b[0;34m\u001b[0m\u001b[0m\n\u001b[1;32m    141\u001b[0m   )\n",
            "\u001b[0;32m/usr/local/lib/python3.10/dist-packages/tensorflow/python/eager/polymorphic_function/concrete_function.py\u001b[0m in \u001b[0;36m_call_flat\u001b[0;34m(self, tensor_inputs, captured_inputs)\u001b[0m\n\u001b[1;32m   1321\u001b[0m         and executing_eagerly):\n\u001b[1;32m   1322\u001b[0m       \u001b[0;31m# No tape is watching; skip to running the function.\u001b[0m\u001b[0;34m\u001b[0m\u001b[0;34m\u001b[0m\u001b[0m\n\u001b[0;32m-> 1323\u001b[0;31m       \u001b[0;32mreturn\u001b[0m \u001b[0mself\u001b[0m\u001b[0;34m.\u001b[0m\u001b[0m_inference_function\u001b[0m\u001b[0;34m.\u001b[0m\u001b[0mcall_preflattened\u001b[0m\u001b[0;34m(\u001b[0m\u001b[0margs\u001b[0m\u001b[0;34m)\u001b[0m\u001b[0;34m\u001b[0m\u001b[0;34m\u001b[0m\u001b[0m\n\u001b[0m\u001b[1;32m   1324\u001b[0m     forward_backward = self._select_forward_and_backward_functions(\n\u001b[1;32m   1325\u001b[0m         \u001b[0margs\u001b[0m\u001b[0;34m,\u001b[0m\u001b[0;34m\u001b[0m\u001b[0;34m\u001b[0m\u001b[0m\n",
            "\u001b[0;32m/usr/local/lib/python3.10/dist-packages/tensorflow/python/eager/polymorphic_function/atomic_function.py\u001b[0m in \u001b[0;36mcall_preflattened\u001b[0;34m(self, args)\u001b[0m\n\u001b[1;32m    214\u001b[0m   \u001b[0;32mdef\u001b[0m \u001b[0mcall_preflattened\u001b[0m\u001b[0;34m(\u001b[0m\u001b[0mself\u001b[0m\u001b[0;34m,\u001b[0m \u001b[0margs\u001b[0m\u001b[0;34m:\u001b[0m \u001b[0mSequence\u001b[0m\u001b[0;34m[\u001b[0m\u001b[0mcore\u001b[0m\u001b[0;34m.\u001b[0m\u001b[0mTensor\u001b[0m\u001b[0;34m]\u001b[0m\u001b[0;34m)\u001b[0m \u001b[0;34m->\u001b[0m \u001b[0mAny\u001b[0m\u001b[0;34m:\u001b[0m\u001b[0;34m\u001b[0m\u001b[0;34m\u001b[0m\u001b[0m\n\u001b[1;32m    215\u001b[0m     \u001b[0;34m\"\"\"Calls with flattened tensor inputs and returns the structured output.\"\"\"\u001b[0m\u001b[0;34m\u001b[0m\u001b[0;34m\u001b[0m\u001b[0m\n\u001b[0;32m--> 216\u001b[0;31m     \u001b[0mflat_outputs\u001b[0m \u001b[0;34m=\u001b[0m \u001b[0mself\u001b[0m\u001b[0;34m.\u001b[0m\u001b[0mcall_flat\u001b[0m\u001b[0;34m(\u001b[0m\u001b[0;34m*\u001b[0m\u001b[0margs\u001b[0m\u001b[0;34m)\u001b[0m\u001b[0;34m\u001b[0m\u001b[0;34m\u001b[0m\u001b[0m\n\u001b[0m\u001b[1;32m    217\u001b[0m     \u001b[0;32mreturn\u001b[0m \u001b[0mself\u001b[0m\u001b[0;34m.\u001b[0m\u001b[0mfunction_type\u001b[0m\u001b[0;34m.\u001b[0m\u001b[0mpack_output\u001b[0m\u001b[0;34m(\u001b[0m\u001b[0mflat_outputs\u001b[0m\u001b[0;34m)\u001b[0m\u001b[0;34m\u001b[0m\u001b[0;34m\u001b[0m\u001b[0m\n\u001b[1;32m    218\u001b[0m \u001b[0;34m\u001b[0m\u001b[0m\n",
            "\u001b[0;32m/usr/local/lib/python3.10/dist-packages/tensorflow/python/eager/polymorphic_function/atomic_function.py\u001b[0m in \u001b[0;36mcall_flat\u001b[0;34m(self, *args)\u001b[0m\n\u001b[1;32m    249\u001b[0m         \u001b[0;32mwith\u001b[0m \u001b[0mrecord\u001b[0m\u001b[0;34m.\u001b[0m\u001b[0mstop_recording\u001b[0m\u001b[0;34m(\u001b[0m\u001b[0;34m)\u001b[0m\u001b[0;34m:\u001b[0m\u001b[0;34m\u001b[0m\u001b[0;34m\u001b[0m\u001b[0m\n\u001b[1;32m    250\u001b[0m           \u001b[0;32mif\u001b[0m \u001b[0mself\u001b[0m\u001b[0;34m.\u001b[0m\u001b[0m_bound_context\u001b[0m\u001b[0;34m.\u001b[0m\u001b[0mexecuting_eagerly\u001b[0m\u001b[0;34m(\u001b[0m\u001b[0;34m)\u001b[0m\u001b[0;34m:\u001b[0m\u001b[0;34m\u001b[0m\u001b[0;34m\u001b[0m\u001b[0m\n\u001b[0;32m--> 251\u001b[0;31m             outputs = self._bound_context.call_function(\n\u001b[0m\u001b[1;32m    252\u001b[0m                 \u001b[0mself\u001b[0m\u001b[0;34m.\u001b[0m\u001b[0mname\u001b[0m\u001b[0;34m,\u001b[0m\u001b[0;34m\u001b[0m\u001b[0;34m\u001b[0m\u001b[0m\n\u001b[1;32m    253\u001b[0m                 \u001b[0mlist\u001b[0m\u001b[0;34m(\u001b[0m\u001b[0margs\u001b[0m\u001b[0;34m)\u001b[0m\u001b[0;34m,\u001b[0m\u001b[0;34m\u001b[0m\u001b[0;34m\u001b[0m\u001b[0m\n",
            "\u001b[0;32m/usr/local/lib/python3.10/dist-packages/tensorflow/python/eager/context.py\u001b[0m in \u001b[0;36mcall_function\u001b[0;34m(self, name, tensor_inputs, num_outputs)\u001b[0m\n\u001b[1;32m   1484\u001b[0m     \u001b[0mcancellation_context\u001b[0m \u001b[0;34m=\u001b[0m \u001b[0mcancellation\u001b[0m\u001b[0;34m.\u001b[0m\u001b[0mcontext\u001b[0m\u001b[0;34m(\u001b[0m\u001b[0;34m)\u001b[0m\u001b[0;34m\u001b[0m\u001b[0;34m\u001b[0m\u001b[0m\n\u001b[1;32m   1485\u001b[0m     \u001b[0;32mif\u001b[0m \u001b[0mcancellation_context\u001b[0m \u001b[0;32mis\u001b[0m \u001b[0;32mNone\u001b[0m\u001b[0;34m:\u001b[0m\u001b[0;34m\u001b[0m\u001b[0;34m\u001b[0m\u001b[0m\n\u001b[0;32m-> 1486\u001b[0;31m       outputs = execute.execute(\n\u001b[0m\u001b[1;32m   1487\u001b[0m           \u001b[0mname\u001b[0m\u001b[0;34m.\u001b[0m\u001b[0mdecode\u001b[0m\u001b[0;34m(\u001b[0m\u001b[0;34m\"utf-8\"\u001b[0m\u001b[0;34m)\u001b[0m\u001b[0;34m,\u001b[0m\u001b[0;34m\u001b[0m\u001b[0;34m\u001b[0m\u001b[0m\n\u001b[1;32m   1488\u001b[0m           \u001b[0mnum_outputs\u001b[0m\u001b[0;34m=\u001b[0m\u001b[0mnum_outputs\u001b[0m\u001b[0;34m,\u001b[0m\u001b[0;34m\u001b[0m\u001b[0;34m\u001b[0m\u001b[0m\n",
            "\u001b[0;32m/usr/local/lib/python3.10/dist-packages/tensorflow/python/eager/execute.py\u001b[0m in \u001b[0;36mquick_execute\u001b[0;34m(op_name, num_outputs, inputs, attrs, ctx, name)\u001b[0m\n\u001b[1;32m     51\u001b[0m   \u001b[0;32mtry\u001b[0m\u001b[0;34m:\u001b[0m\u001b[0;34m\u001b[0m\u001b[0;34m\u001b[0m\u001b[0m\n\u001b[1;32m     52\u001b[0m     \u001b[0mctx\u001b[0m\u001b[0;34m.\u001b[0m\u001b[0mensure_initialized\u001b[0m\u001b[0;34m(\u001b[0m\u001b[0;34m)\u001b[0m\u001b[0;34m\u001b[0m\u001b[0;34m\u001b[0m\u001b[0m\n\u001b[0;32m---> 53\u001b[0;31m     tensors = pywrap_tfe.TFE_Py_Execute(ctx._handle, device_name, op_name,\n\u001b[0m\u001b[1;32m     54\u001b[0m                                         inputs, attrs, num_outputs)\n\u001b[1;32m     55\u001b[0m   \u001b[0;32mexcept\u001b[0m \u001b[0mcore\u001b[0m\u001b[0;34m.\u001b[0m\u001b[0m_NotOkStatusException\u001b[0m \u001b[0;32mas\u001b[0m \u001b[0me\u001b[0m\u001b[0;34m:\u001b[0m\u001b[0;34m\u001b[0m\u001b[0;34m\u001b[0m\u001b[0m\n",
            "\u001b[0;31mKeyboardInterrupt\u001b[0m: "
          ]
        }
      ],
      "source": [
        "history = model.fit(x_train, y_train,\n",
        "                    batch_size=batch_size,\n",
        "                    epochs=epochs,\n",
        "                    verbose=1,\n",
        "                    validation_data=(x_val, y_val),\n",
        "                    shuffle=True,\n",
        "                    callbacks=[lr_reducer, checkpointer, early_stopper])"
      ]
    },
    {
      "cell_type": "markdown",
      "source": [
        "# Continuar treinamento"
      ],
      "metadata": {
        "id": "Bw-Tr9f1Dv18"
      }
    },
    {
      "cell_type": "code",
      "source": [
        "model = load_model(model_file_weight)\n",
        "history = model.fit(x_train, y_train,\n",
        "                    batch_size=batch_size,\n",
        "                    epochs=epochs,\n",
        "                    verbose=1,\n",
        "                    validation_data=(x_val, y_val),\n",
        "                    shuffle=True,\n",
        "                    callbacks=[lr_reducer, checkpointer, early_stopper])"
      ],
      "metadata": {
        "collapsed": true,
        "id": "0eqJH7lyD_Lj"
      },
      "execution_count": null,
      "outputs": []
    },
    {
      "cell_type": "markdown",
      "source": [
        "Salva o modelo completo (arquitetura e os pesos)"
      ],
      "metadata": {
        "id": "boMlGThCORbW"
      }
    },
    {
      "cell_type": "code",
      "source": [
        "model.save('/content/gdrive/MyDrive/Colab Notebooks/emotions_rocognition/model_file.h5')"
      ],
      "metadata": {
        "id": "CTOzEkeDK9X9"
      },
      "execution_count": null,
      "outputs": []
    },
    {
      "cell_type": "markdown",
      "source": [
        "# Carregar modelo salvo"
      ],
      "metadata": {
        "id": "iCXEovVDR8qr"
      }
    },
    {
      "cell_type": "code",
      "source": [
        "model_w_weight = '/content/gdrive/MyDrive/Colab Notebooks/emotions_rocognition/model_file.h5'\n",
        "loaded_model = load_model(model_w_weight)"
      ],
      "metadata": {
        "id": "B3J2LbIWSEwc"
      },
      "execution_count": 107,
      "outputs": []
    },
    {
      "cell_type": "markdown",
      "metadata": {
        "id": "fxa09fk8XkpZ"
      },
      "source": [
        "# Gráfico do accuracy ao longo do treinamento"
      ]
    },
    {
      "cell_type": "code",
      "execution_count": 105,
      "metadata": {
        "id": "h8pZ8JFdXwY0"
      },
      "outputs": [],
      "source": [
        "def acc_graph(model_history):\n",
        "  fig, axis = plt.subplots(1, 2, figsize=(15, 5))\n",
        "  axis[0].plot(range(1, len(model_history.history['accuracy']) + 1),\n",
        "               model_history.history['accuracy'], 'r')\n",
        "  axis[0].plot(range(1, len(model_history.history['val_accuracy']) + 1),\n",
        "               model_history.history['val_accuracy'], 'b')\n",
        "  axis[0].set_title('Model Accuracy')\n",
        "  axis[0].set_ylabel('Accuracy')\n",
        "  axis[0].set_xlabel('Epoch')\n",
        "  axis[0].set_xticks(np.arange(1, len(model_history.history['accuracy']) + 1),\n",
        "                     len(model_history.history['accuracy']) // 10)\n",
        "  axis[0].legend(['training accuracy', 'validation_acc'], loc='best')\n",
        "\n",
        "  axis[1].plot(range(1, len(model_history.history['loss']) + 1),\n",
        "               model_history.history['loss'], 'r')\n",
        "  axis[1].plot(range(1, len(model_history.history['val_loss']) + 1),\n",
        "               model_history.history['val_loss'], 'b')\n",
        "  axis[1].set_title('Model Loss')\n",
        "  axis[1].set_ylabel('Loss')\n",
        "  axis[1].set_xlabel('Epoch')\n",
        "  axis[1].set_xticks(np.arange(1, len(model_history.history['loss']) + 1),\n",
        "                     len(model_history.history['loss']) // 10)\n",
        "  axis[1].legend(['training loss', 'validation loss'], loc='best')"
      ]
    },
    {
      "cell_type": "code",
      "source": [
        "acc_graph(history)"
      ],
      "metadata": {
        "id": "bIMQ4qlYQ8fV"
      },
      "execution_count": null,
      "outputs": []
    },
    {
      "cell_type": "markdown",
      "source": [
        "# Verificando a precisão (accuracy) do modelo"
      ],
      "metadata": {
        "id": "VuTuA8D5iTWL"
      }
    },
    {
      "cell_type": "code",
      "source": [
        "scores = loaded_model.evaluate(x_test, y_test, batch_size=batch_size)"
      ],
      "metadata": {
        "colab": {
          "base_uri": "https://localhost:8080/"
        },
        "id": "XFOpIlsTibkB",
        "outputId": "27eeb6f8-30d9-4864-a864-d87c5d5f7725"
      },
      "execution_count": 108,
      "outputs": [
        {
          "output_type": "stream",
          "name": "stdout",
          "text": [
            "57/57 [==============================] - 60s 1s/step - loss: 1.5723 - accuracy: 0.6183\n"
          ]
        }
      ]
    },
    {
      "cell_type": "code",
      "source": [
        "print(\"Accuracy: \", str(scores[1]))\n",
        "print(\"Loss: \", str(scores[0]))"
      ],
      "metadata": {
        "colab": {
          "base_uri": "https://localhost:8080/"
        },
        "id": "LiO9jYtdizNh",
        "outputId": "38eec26d-ff27-4bd5-c58a-ad880fb58b6e"
      },
      "execution_count": 109,
      "outputs": [
        {
          "output_type": "stream",
          "name": "stdout",
          "text": [
            "Accuracy:  0.6182780861854553\n",
            "Loss:  1.5723087787628174\n"
          ]
        }
      ]
    },
    {
      "cell_type": "markdown",
      "source": [
        "# Construção da matriz de confusão"
      ],
      "metadata": {
        "id": "jttNz3mAl6dh"
      }
    },
    {
      "cell_type": "markdown",
      "source": [
        "Carregamento dos dados"
      ],
      "metadata": {
        "id": "8R0_NBofmMvW"
      }
    },
    {
      "cell_type": "code",
      "source": [
        "x = np.load('mod_xtest.npy')\n",
        "y = np.load('mod_ytest.npy')\n",
        "\n",
        "print(f\"Imagem: {x[0]}\\nResposta: {y[0]}\")"
      ],
      "metadata": {
        "colab": {
          "base_uri": "https://localhost:8080/"
        },
        "id": "Rcq1Rp7ql5vM",
        "outputId": "9e4a89f8-833c-4b45-cc5b-583e11678c8f"
      },
      "execution_count": 113,
      "outputs": [
        {
          "output_type": "stream",
          "name": "stdout",
          "text": [
            "Imagem: [[0.5568628  0.5803922  0.59607846 ... 0.3529412  0.3529412  0.3647059 ]\n",
            " [0.5568628  0.5764706  0.5921569  ... 0.33333334 0.36078432 0.40392157]\n",
            " [0.5529412  0.5686275  0.5921569  ... 0.3372549  0.32156864 0.37254903]\n",
            " ...\n",
            " [0.0627451  0.08235294 0.07058824 ... 0.08235294 0.09019608 0.11372549]\n",
            " [0.05490196 0.0627451  0.05490196 ... 0.07450981 0.07843138 0.09803922]\n",
            " [0.04705882 0.04705882 0.04705882 ... 0.06666667 0.07450981 0.09411765]]\n",
            "Resposta: [False False False  True False False False]\n"
          ]
        }
      ]
    },
    {
      "cell_type": "markdown",
      "source": [
        "Leitura dos arquivos de JSON e h5 com a arquitetura e os pesos do modelo.  \n",
        "mas tambem utilizei o model.save() que salva a arquitetura e peso do mdelo."
      ],
      "metadata": {
        "id": "t-IHKR2PoIsC"
      }
    },
    {
      "cell_type": "code",
      "source": [
        "# json_file = open(model_file_struct, 'r')\n",
        "# loaded_model_json = json_file.read()\n",
        "# json_file.close()"
      ],
      "metadata": {
        "id": "4-OJX1sZmqdp"
      },
      "execution_count": 114,
      "outputs": []
    },
    {
      "cell_type": "markdown",
      "source": [
        "Construção do modelo a partir dos arquivos JSON e h5 lidos"
      ],
      "metadata": {
        "id": "JYYAizzqoG9a"
      }
    },
    {
      "cell_type": "code",
      "source": [
        "# loaded_model = model_from_json(loaded_model_json)\n",
        "# loaded_model.load_weights(model_file_weight)\n",
        "loaded_model = load_model(model_w_weight)"
      ],
      "metadata": {
        "id": "G3n04N7NnYjj"
      },
      "execution_count": 116,
      "outputs": []
    },
    {
      "cell_type": "markdown",
      "source": [
        "Armazenamento das previsãoes do modelo"
      ],
      "metadata": {
        "id": "NXjHIwMAwZ6h"
      }
    },
    {
      "cell_type": "code",
      "source": [
        "y_pred = loaded_model.predict(x)\n",
        "y_pred[0]"
      ],
      "metadata": {
        "colab": {
          "base_uri": "https://localhost:8080/"
        },
        "id": "yBHItVY9pJDD",
        "outputId": "8bf98660-9065-4bec-c4a0-ee67f1d5d043"
      },
      "execution_count": 117,
      "outputs": [
        {
          "output_type": "stream",
          "name": "stdout",
          "text": [
            "113/113 [==============================] - 55s 480ms/step\n"
          ]
        },
        {
          "output_type": "execute_result",
          "data": {
            "text/plain": [
              "array([8.5596943e-09, 3.1073022e-24, 5.5021967e-08, 9.9998564e-01,\n",
              "       7.8078023e-07, 6.6221690e-09, 1.3353844e-05], dtype=float32)"
            ]
          },
          "metadata": {},
          "execution_count": 117
        }
      ]
    },
    {
      "cell_type": "code",
      "source": [
        "yp = y_pred.tolist()\n",
        "yt = y.tolist()"
      ],
      "metadata": {
        "id": "O9A0vrDQo8XG"
      },
      "execution_count": 118,
      "outputs": []
    },
    {
      "cell_type": "markdown",
      "source": [
        "Cálculo manual do accuracy.  \n",
        "Itera sobre as predições e os valores reais. Em cada iteração é armazenado os índices dos maiores valores. Os índices são comparados para contar a quantidade de acertos do modelo."
      ],
      "metadata": {
        "id": "iN6HZqytwRuX"
      }
    },
    {
      "cell_type": "code",
      "source": [
        "true_y, pred_y, right_preds_num = [], [], 0\n",
        "\n",
        "for i, (predicted, true) in enumerate(zip(yp, yt)):\n",
        "  pred_y.append(np.argmax(predicted))\n",
        "  true_y.append(np.argmax(true))\n",
        "\n",
        "  if pred_y[i] == true_y[i]:\n",
        "    right_preds_num += 1\n",
        "\n",
        "acc = (right_preds_num / len(y))\n",
        "acc"
      ],
      "metadata": {
        "colab": {
          "base_uri": "https://localhost:8080/"
        },
        "id": "KrbxOWgdrNp_",
        "outputId": "46115380-a0ce-4572-869d-800805f6315f"
      },
      "execution_count": 119,
      "outputs": [
        {
          "output_type": "execute_result",
          "data": {
            "text/plain": [
              "0.6182780718863193"
            ]
          },
          "metadata": {},
          "execution_count": 119
        }
      ]
    },
    {
      "cell_type": "code",
      "source": [
        "np.save('truey_mod01', true_y)\n",
        "np.save('predy_mod01', pred_y)"
      ],
      "metadata": {
        "id": "JKaITXK7vHn4"
      },
      "execution_count": 120,
      "outputs": []
    },
    {
      "cell_type": "markdown",
      "source": [
        "Gerando a matriz de confusão"
      ],
      "metadata": {
        "id": "q5BP-HkvxoOF"
      }
    },
    {
      "cell_type": "code",
      "source": [
        "from sklearn.metrics import confusion_matrix"
      ],
      "metadata": {
        "id": "9yfOiKJdx_8V"
      },
      "execution_count": 121,
      "outputs": []
    },
    {
      "cell_type": "code",
      "source": [
        "y_true = np.load('truey_mod01.npy')\n",
        "y_pred = np.load('predy_mod01.npy')"
      ],
      "metadata": {
        "id": "z2PSEojswLNc"
      },
      "execution_count": 122,
      "outputs": []
    },
    {
      "cell_type": "code",
      "source": [
        "cm = confusion_matrix(y_true, y_pred)\n",
        "cm"
      ],
      "metadata": {
        "colab": {
          "base_uri": "https://localhost:8080/"
        },
        "id": "nEPdvIrcyCsg",
        "outputId": "3aefde72-4ace-48c9-f51f-2e92d95de992"
      },
      "execution_count": 123,
      "outputs": [
        {
          "output_type": "execute_result",
          "data": {
            "text/plain": [
              "array([[258,   8,  62,  23,  74,   9,  64],\n",
              "       [ 12,  29,   4,   2,   2,   1,   2],\n",
              "       [ 57,   4, 263,  28, 102,  42,  49],\n",
              "       [ 20,   1,  25, 735,  33,  23,  44],\n",
              "       [ 50,   4, 115,  34, 297,   1,  87],\n",
              "       [  8,   1,  52,  32,   7, 290,  24],\n",
              "       [ 34,   1,  56,  53, 108,  12, 347]])"
            ]
          },
          "metadata": {},
          "execution_count": 123
        }
      ]
    },
    {
      "cell_type": "code",
      "source": [
        "import itertools"
      ],
      "metadata": {
        "id": "EjFrjWaayf5x"
      },
      "execution_count": 124,
      "outputs": []
    },
    {
      "cell_type": "code",
      "source": [
        "plt.imshow(cm, interpolation='nearest', cmap=plt.cm.Blues)\n",
        "plt.title(\"Confusion Matrix\")\n",
        "plt.colorbar()\n",
        "tick_marks = np.arange(len(categorical_emotions))\n",
        "plt.xticks(tick_marks, categorical_emotions, rotation=45)\n",
        "plt.yticks(tick_marks, categorical_emotions, rotation=45); # ; oculta as infos\n",
        "\n",
        "thresh = cm.max() / 2.\n",
        "\n",
        "# itertools.product retorna o produto cartesiano dos parâmetros\n",
        "for i, j in itertools.product(range(cm.shape[0]), range(cm.shape[1])):\n",
        "  # verificação para alterar a cor do número na matriz de confusão\n",
        "  plt.text(j, i, f\"{cm[i, j]}\", horizontalalignment='center', color='white' if cm[i, j] > thresh else 'black')\n",
        "\n",
        "plt.xlabel('preds')\n",
        "plt.ylabel('true answ')\n",
        "plt.savefig('confusion_matrix_mod01.png')\n",
        "\n",
        "plt.show()"
      ],
      "metadata": {
        "colab": {
          "base_uri": "https://localhost:8080/",
          "height": 508
        },
        "id": "-pgYGqLKyqKL",
        "outputId": "18627eec-f9df-4c80-cb0e-53446d2b7c40"
      },
      "execution_count": 125,
      "outputs": [
        {
          "output_type": "display_data",
          "data": {
            "text/plain": [
              "<Figure size 640x480 with 2 Axes>"
            ],
            "image/png": "[encoded data removed]"
          },
          "metadata": {}
        }
      ]
    },
    {
      "cell_type": "markdown",
      "source": [
        "# Testando o modelo"
      ],
      "metadata": {
        "id": "g9ItWniv2L4O"
      }
    },
    {
      "cell_type": "markdown",
      "source": [
        "O teste do modelo está no notebook:: **(modelo treinado)Reconhecimento de emoção.ipynb**"
      ],
      "metadata": {
        "id": "KW8otCSj6CUr"
      }
    }
  ],
  "metadata": {
    "accelerator": "TPU",
    "colab": {
      "collapsed_sections": [
        "rAZCotW2B1M-",
        "rZnP8cTLo7gj",
        "ZwneH6xFrr7u",
        "qYmcNpfj-0CM",
        "9WG-zv1GY5Uo",
        "oPIhfzRbwlYG",
        "QFeLRiC127n8",
        "4R3wwRl7_Aqd",
        "2Ntof0wsEbTW",
        "Bw-Tr9f1Dv18"
      ],
      "gpuType": "V28",
      "provenance": [],
      "authorship_tag": "ABX9TyPw0mDnlx0PXz2O64UTuDT8",
      "include_colab_link": true
    },
    "kernelspec": {
      "display_name": "Python 3",
      "name": "python3"
    },
    "language_info": {
      "name": "python"
    }
  },
  "nbformat": 4,
  "nbformat_minor": 0
}